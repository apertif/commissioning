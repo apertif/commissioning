{
 "cells": [
  {
   "cell_type": "markdown",
   "metadata": {},
   "source": [
    "With the change from mid-October (implemented 15/16 October) of the sign in calc_phase_dir, the phase centers for compound beams should now be computed directly. This means we can use the parameter --field_beam when specifying observations to place a target in the non-central beam. While doing this, I noticed that the central coordinates of the specified beam were slightly different than that of the target specified. This notebook is an exploration and visualization of this issue. It relies on code that can be found in the apertif github commissioning repository."
   ]
  },
  {
   "cell_type": "code",
   "execution_count": 1,
   "metadata": {},
   "outputs": [],
   "source": [
    "#Load the necessary packages\n",
    "import sys\n",
    "sys.path.append('/home/adams/commissioning/misc')\n",
    "import misc as misc\n",
    "import matplotlib.pyplot as plt"
   ]
  },
  {
   "cell_type": "code",
   "execution_count": 2,
   "metadata": {},
   "outputs": [
    {
     "name": "stdout",
     "output_type": "stream",
     "text": [
      "Reminder: Make sure observation record is up-to-date!\n",
      "In switching scan mode\n",
      "Moved to and copying data to /data/adams/apertif/beampos\n",
      "In running mode, will execute commands\n",
      "File already exists\n",
      "python /home/adams/altadata/getdata_alta.py 181026 063-063 00-00\n",
      "File already exists\n",
      "python /home/adams/altadata/getdata_alta.py 181026 064-064 01-01\n",
      "File already exists\n",
      "python /home/adams/altadata/getdata_alta.py 181026 065-065 02-02\n",
      "File already exists\n",
      "python /home/adams/altadata/getdata_alta.py 181026 066-066 03-03\n",
      "File already exists\n",
      "python /home/adams/altadata/getdata_alta.py 181026 067-067 04-04\n",
      "File already exists\n",
      "python /home/adams/altadata/getdata_alta.py 181026 068-068 05-05\n",
      "File already exists\n",
      "python /home/adams/altadata/getdata_alta.py 181026 069-069 06-06\n",
      "File already exists\n",
      "python /home/adams/altadata/getdata_alta.py 181026 070-070 07-07\n",
      "File already exists\n",
      "python /home/adams/altadata/getdata_alta.py 181026 071-071 08-08\n",
      "File already exists\n",
      "python /home/adams/altadata/getdata_alta.py 181026 072-072 09-09\n",
      "File already exists\n",
      "python /home/adams/altadata/getdata_alta.py 181026 073-073 10-10\n",
      "File already exists\n",
      "python /home/adams/altadata/getdata_alta.py 181026 074-074 11-11\n",
      "File already exists\n",
      "python /home/adams/altadata/getdata_alta.py 181026 075-075 12-12\n",
      "File already exists\n",
      "python /home/adams/altadata/getdata_alta.py 181026 076-076 13-13\n",
      "File already exists\n",
      "python /home/adams/altadata/getdata_alta.py 181026 077-077 14-14\n",
      "File already exists\n",
      "python /home/adams/altadata/getdata_alta.py 181026 078-078 15-15\n",
      "File already exists\n",
      "python /home/adams/altadata/getdata_alta.py 181026 079-079 16-16\n",
      "File already exists\n",
      "python /home/adams/altadata/getdata_alta.py 181026 080-080 17-17\n",
      "File already exists\n",
      "python /home/adams/altadata/getdata_alta.py 181026 081-081 18-18\n",
      "File already exists\n",
      "python /home/adams/altadata/getdata_alta.py 181026 082-082 19-19\n",
      "File already exists\n",
      "python /home/adams/altadata/getdata_alta.py 181026 083-083 20-20\n",
      "File already exists\n",
      "python /home/adams/altadata/getdata_alta.py 181026 084-084 21-21\n",
      "python /home/adams/altadata/getdata_alta.py 181026 085-085 22-22\n",
      "File already exists\n",
      "python /home/adams/altadata/getdata_alta.py 181026 086-086 23-23\n",
      "File already exists\n",
      "python /home/adams/altadata/getdata_alta.py 181026 087-087 24-24\n",
      "File already exists\n",
      "python /home/adams/altadata/getdata_alta.py 181026 088-088 25-25\n",
      "File already exists\n",
      "python /home/adams/altadata/getdata_alta.py 181026 089-089 26-26\n",
      "File already exists\n",
      "python /home/adams/altadata/getdata_alta.py 181026 090-090 27-27\n",
      "File already exists\n",
      "python /home/adams/altadata/getdata_alta.py 181026 091-091 28-28\n",
      "File already exists\n",
      "python /home/adams/altadata/getdata_alta.py 181026 092-092 29-29\n",
      "File already exists\n",
      "python /home/adams/altadata/getdata_alta.py 181026 093-093 30-30\n",
      "File already exists\n",
      "python /home/adams/altadata/getdata_alta.py 181026 094-094 31-31\n",
      "File already exists\n",
      "python /home/adams/altadata/getdata_alta.py 181026 095-095 32-32\n",
      "File already exists\n",
      "python /home/adams/altadata/getdata_alta.py 181026 096-096 33-33\n",
      "File already exists\n",
      "python /home/adams/altadata/getdata_alta.py 181026 097-097 34-34\n",
      "File already exists\n",
      "python /home/adams/altadata/getdata_alta.py 181026 098-098 35-35\n",
      "File already exists\n",
      "python /home/adams/altadata/getdata_alta.py 181026 099-099 36-36\n"
     ]
    }
   ],
   "source": [
    "#Copy the data over for working with\n",
    "misc.get_data_beam_pos(181026063,181026099,181026063,\n",
    "                        '/home/adams/commissioning/APERTIF_observation_record_1nov2018.csv')"
   ]
  },
  {
   "cell_type": "markdown",
   "metadata": {},
   "source": [
    "Note that I should probably update the code above to print messages as it copies data, but you can also follow along on #happili-transfers on the RO slack."
   ]
  },
  {
   "cell_type": "code",
   "execution_count": 3,
   "metadata": {},
   "outputs": [
    {
     "name": "stdout",
     "output_type": "stream",
     "text": [
      "Reminder: Make sure observation record is up-to-date!\n",
      "In switching scan mode\n",
      "Successful readonly open of default-locked table WSRTA181026063_B000.MS::FIELD: 9 columns, 1 rows\n",
      "Successful readonly open of default-locked table WSRTA181026063_B000.MS::FIELD: 9 columns, 1 rows\n",
      "Successful readonly open of default-locked table WSRTA181026064_B001.MS::FIELD: 9 columns, 1 rows\n",
      "Successful readonly open of default-locked table WSRTA181026065_B002.MS::FIELD: 9 columns, 1 rows\n",
      "Successful readonly open of default-locked table WSRTA181026066_B003.MS::FIELD: 9 columns, 1 rows\n",
      "Successful readonly open of default-locked table WSRTA181026067_B004.MS::FIELD: 9 columns, 1 rows\n",
      "Successful readonly open of default-locked table WSRTA181026068_B005.MS::FIELD: 9 columns, 1 rows\n",
      "Successful readonly open of default-locked table WSRTA181026069_B006.MS::FIELD: 9 columns, 1 rows\n",
      "Successful readonly open of default-locked table WSRTA181026070_B007.MS::FIELD: 9 columns, 1 rows\n",
      "Successful readonly open of default-locked table WSRTA181026071_B008.MS::FIELD: 9 columns, 1 rows\n",
      "Successful readonly open of default-locked table WSRTA181026072_B009.MS::FIELD: 9 columns, 1 rows\n",
      "Successful readonly open of default-locked table WSRTA181026073_B010.MS::FIELD: 9 columns, 1 rows\n",
      "Successful readonly open of default-locked table WSRTA181026074_B011.MS::FIELD: 9 columns, 1 rows\n",
      "Successful readonly open of default-locked table WSRTA181026075_B012.MS::FIELD: 9 columns, 1 rows\n",
      "Successful readonly open of default-locked table WSRTA181026076_B013.MS::FIELD: 9 columns, 1 rows\n",
      "Successful readonly open of default-locked table WSRTA181026077_B014.MS::FIELD: 9 columns, 1 rows\n",
      "Successful readonly open of default-locked table WSRTA181026078_B015.MS::FIELD: 9 columns, 1 rows\n",
      "Successful readonly open of default-locked table WSRTA181026079_B016.MS::FIELD: 9 columns, 1 rows\n",
      "Successful readonly open of default-locked table WSRTA181026080_B017.MS::FIELD: 9 columns, 1 rows\n",
      "Successful readonly open of default-locked table WSRTA181026081_B018.MS::FIELD: 9 columns, 1 rows\n",
      "Successful readonly open of default-locked table WSRTA181026082_B019.MS::FIELD: 9 columns, 1 rows\n",
      "Successful readonly open of default-locked table WSRTA181026083_B020.MS::FIELD: 9 columns, 1 rows\n",
      "Successful readonly open of default-locked table WSRTA181026084_B021.MS::FIELD: 9 columns, 1 rows\n"
     ]
    },
    {
     "ename": "RuntimeError",
     "evalue": "Table WSRTA181026085_B022.MS::FIELD does not exist",
     "output_type": "error",
     "traceback": [
      "\u001b[0;31m---------------------------------------------------------------------------\u001b[0m",
      "\u001b[0;31mRuntimeError\u001b[0m                              Traceback (most recent call last)",
      "\u001b[0;32m<ipython-input-3-af680ba68b7f>\u001b[0m in \u001b[0;36m<module>\u001b[0;34m()\u001b[0m\n\u001b[1;32m      1\u001b[0m misc.print_offsets(181026063,181026099,181026063,\n\u001b[0;32m----> 2\u001b[0;31m                   '/home/adams/commissioning/APERTIF_observation_record_1nov2018.csv')\n\u001b[0m",
      "\u001b[0;32m/home/adams/commissioning/misc/misc.py\u001b[0m in \u001b[0;36mprint_offsets\u001b[0;34m(startscan, endscan, refscan, obsrecordfile)\u001b[0m\n\u001b[1;32m     69\u001b[0m \u001b[0;32mdef\u001b[0m \u001b[0mprint_offsets\u001b[0m\u001b[0;34m(\u001b[0m\u001b[0mstartscan\u001b[0m\u001b[0;34m,\u001b[0m\u001b[0mendscan\u001b[0m\u001b[0;34m,\u001b[0m\u001b[0mrefscan\u001b[0m\u001b[0;34m,\u001b[0m\u001b[0mobsrecordfile\u001b[0m\u001b[0;34m)\u001b[0m\u001b[0;34m:\u001b[0m\u001b[0;34m\u001b[0m\u001b[0m\n\u001b[1;32m     70\u001b[0m     \u001b[0;31m#produce a nicely formatted overview of offsets\u001b[0m\u001b[0;34m\u001b[0m\u001b[0;34m\u001b[0m\u001b[0m\n\u001b[0;32m---> 71\u001b[0;31m     \u001b[0mcoord_list\u001b[0m\u001b[0;34m,\u001b[0m\u001b[0moffset_list\u001b[0m\u001b[0;34m,\u001b[0m\u001b[0mbeam_list\u001b[0m \u001b[0;34m=\u001b[0m \u001b[0mget_coords_and_offsets\u001b[0m\u001b[0;34m(\u001b[0m\u001b[0mstartscan\u001b[0m\u001b[0;34m,\u001b[0m\u001b[0mendscan\u001b[0m\u001b[0;34m,\u001b[0m\u001b[0mrefscan\u001b[0m\u001b[0;34m,\u001b[0m\u001b[0mobsrecordfile\u001b[0m\u001b[0;34m)\u001b[0m\u001b[0;34m\u001b[0m\u001b[0m\n\u001b[0m\u001b[1;32m     72\u001b[0m     \u001b[0;32mprint\u001b[0m \u001b[0;34m'Beam  Offset in degrees'\u001b[0m\u001b[0;34m\u001b[0m\u001b[0m\n\u001b[1;32m     73\u001b[0m     \u001b[0;32mfor\u001b[0m \u001b[0mbeam\u001b[0m\u001b[0;34m,\u001b[0m\u001b[0moffset\u001b[0m \u001b[0;32min\u001b[0m \u001b[0mzip\u001b[0m\u001b[0;34m(\u001b[0m\u001b[0mbeam_list\u001b[0m\u001b[0;34m,\u001b[0m\u001b[0moffset_list\u001b[0m\u001b[0;34m)\u001b[0m\u001b[0;34m:\u001b[0m\u001b[0;34m\u001b[0m\u001b[0m\n",
      "\u001b[0;32m/home/adams/commissioning/misc/misc.py\u001b[0m in \u001b[0;36mget_coords_and_offsets\u001b[0;34m(startscan, endscan, refscan, obsrecordfile)\u001b[0m\n\u001b[1;32m     57\u001b[0m         \u001b[0mmsfile\u001b[0m \u001b[0;34m=\u001b[0m \u001b[0;34m'WSRTA{0}_B{1:0>3}.MS'\u001b[0m\u001b[0;34m.\u001b[0m\u001b[0mformat\u001b[0m\u001b[0;34m(\u001b[0m\u001b[0mscan\u001b[0m\u001b[0;34m,\u001b[0m\u001b[0mbeam\u001b[0m\u001b[0;34m)\u001b[0m\u001b[0;34m\u001b[0m\u001b[0m\n\u001b[1;32m     58\u001b[0m         \u001b[0;31m#read the FIELD table\u001b[0m\u001b[0;34m\u001b[0m\u001b[0;34m\u001b[0m\u001b[0m\n\u001b[0;32m---> 59\u001b[0;31m         \u001b[0mt_field\u001b[0m \u001b[0;34m=\u001b[0m \u001b[0mpt\u001b[0m\u001b[0;34m.\u001b[0m\u001b[0mtable\u001b[0m\u001b[0;34m(\u001b[0m\u001b[0mmsfile\u001b[0m\u001b[0;34m+\u001b[0m\u001b[0;34m\"::FIELD\"\u001b[0m\u001b[0;34m,\u001b[0m \u001b[0mreadonly\u001b[0m\u001b[0;34m=\u001b[0m\u001b[0mTrue\u001b[0m\u001b[0;34m)\u001b[0m\u001b[0;34m\u001b[0m\u001b[0m\n\u001b[0m\u001b[1;32m     60\u001b[0m         \u001b[0;31m#take PHASE_DIR as center coordinate of beam\u001b[0m\u001b[0;34m\u001b[0m\u001b[0;34m\u001b[0m\u001b[0m\n\u001b[1;32m     61\u001b[0m         \u001b[0mphasedir\u001b[0m\u001b[0;34m=\u001b[0m\u001b[0mt_field\u001b[0m\u001b[0;34m[\u001b[0m\u001b[0;36m0\u001b[0m\u001b[0;34m]\u001b[0m\u001b[0;34m[\u001b[0m\u001b[0;34m\"PHASE_DIR\"\u001b[0m\u001b[0;34m]\u001b[0m\u001b[0;34m\u001b[0m\u001b[0m\n",
      "\u001b[0;32m/home/apercal/pipeline/local/lib/python2.7/site-packages/python_casacore-2.1.2-py2.7-linux-x86_64.egg/casacore/tables/table.pyc\u001b[0m in \u001b[0;36m__init__\u001b[0;34m(self, tablename, tabledesc, nrow, readonly, lockoptions, ack, dminfo, endian, memorytable, concatsubtables, _columnnames, _datatypes, _oper, _delete)\u001b[0m\n\u001b[1;32m    310\u001b[0m                         \u001b[0mopt\u001b[0m \u001b[0;34m=\u001b[0m \u001b[0;36m6\u001b[0m\u001b[0;34m;\u001b[0m\u001b[0;34m\u001b[0m\u001b[0m\n\u001b[1;32m    311\u001b[0m                 \u001b[0;32mif\u001b[0m \u001b[0misinstance\u001b[0m\u001b[0;34m(\u001b[0m\u001b[0mtabname\u001b[0m\u001b[0;34m,\u001b[0m\u001b[0mstr\u001b[0m\u001b[0;34m)\u001b[0m\u001b[0;34m:\u001b[0m\u001b[0;34m\u001b[0m\u001b[0m\n\u001b[0;32m--> 312\u001b[0;31m                     \u001b[0mTable\u001b[0m\u001b[0;34m.\u001b[0m\u001b[0m__init__\u001b[0m \u001b[0;34m(\u001b[0m\u001b[0mself\u001b[0m\u001b[0;34m,\u001b[0m \u001b[0mtabname\u001b[0m\u001b[0;34m,\u001b[0m \u001b[0mlockopt\u001b[0m\u001b[0;34m,\u001b[0m \u001b[0mopt\u001b[0m\u001b[0;34m)\u001b[0m\u001b[0;34m;\u001b[0m\u001b[0;34m\u001b[0m\u001b[0m\n\u001b[0m\u001b[1;32m    313\u001b[0m                     \u001b[0;32mif\u001b[0m \u001b[0mack\u001b[0m\u001b[0;34m:\u001b[0m\u001b[0;34m\u001b[0m\u001b[0m\n\u001b[1;32m    314\u001b[0m                         \u001b[0msix\u001b[0m\u001b[0;34m.\u001b[0m\u001b[0mprint_\u001b[0m\u001b[0;34m(\u001b[0m\u001b[0;34m'Successful'\u001b[0m\u001b[0;34m,\u001b[0m \u001b[0mtypstr\u001b[0m\u001b[0;34m,\u001b[0m \u001b[0;34m'open of'\u001b[0m\u001b[0;34m,\u001b[0m \u001b[0mlockopt\u001b[0m\u001b[0;34m[\u001b[0m\u001b[0;34m'option'\u001b[0m\u001b[0;34m]\u001b[0m\u001b[0;34m+\u001b[0m\u001b[0;34m'-locked table'\u001b[0m\u001b[0;34m,\u001b[0m \u001b[0mtabname\u001b[0m\u001b[0;34m+\u001b[0m\u001b[0;34m':'\u001b[0m\u001b[0;34m,\u001b[0m \u001b[0mself\u001b[0m\u001b[0;34m.\u001b[0m\u001b[0mncols\u001b[0m\u001b[0;34m(\u001b[0m\u001b[0;34m)\u001b[0m\u001b[0;34m,\u001b[0m \u001b[0;34m'columns,'\u001b[0m\u001b[0;34m,\u001b[0m \u001b[0mself\u001b[0m\u001b[0;34m.\u001b[0m\u001b[0mnrows\u001b[0m\u001b[0;34m(\u001b[0m\u001b[0;34m)\u001b[0m\u001b[0;34m,\u001b[0m \u001b[0;34m'rows'\u001b[0m\u001b[0;34m)\u001b[0m\u001b[0;34m\u001b[0m\u001b[0m\n",
      "\u001b[0;31mRuntimeError\u001b[0m: Table WSRTA181026085_B022.MS::FIELD does not exist"
     ]
    }
   ],
   "source": [
    "misc.print_offsets(181026063,181026099,181026063,\n",
    "                  '/home/adams/commissioning/APERTIF_observation_record_1nov2018.csv')"
   ]
  },
  {
   "cell_type": "markdown",
   "metadata": {},
   "source": [
    "Code fails above because (I think) of a failed observation - I'll need to figure out a way to handle this, but will do so while focusing on ccal work."
   ]
  },
  {
   "cell_type": "code",
   "execution_count": null,
   "metadata": {},
   "outputs": [],
   "source": []
  }
 ],
 "metadata": {
  "kernelspec": {
   "display_name": "Python 2",
   "language": "python",
   "name": "python2"
  },
  "language_info": {
   "codemirror_mode": {
    "name": "ipython",
    "version": 2
   },
   "file_extension": ".py",
   "mimetype": "text/x-python",
   "name": "python",
   "nbconvert_exporter": "python",
   "pygments_lexer": "ipython2",
   "version": "2.7.12"
  }
 },
 "nbformat": 4,
 "nbformat_minor": 2
}
