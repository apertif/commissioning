{
 "cells": [
  {
   "cell_type": "markdown",
   "metadata": {},
   "source": [
    "With the change from mid-October (implemented 15/16 October) of the sign in calc_phase_dir, the phase centers for compound beams should now be computed directly. This means we can use the parameter --field_beam when specifying observations to place a target in the non-central beam. While doing this, I noticed that the central coordinates of the specified beam were slightly different than that of the target specified. This notebook is an exploration and visualization of this issue. It relies on code that can be found in the apertif github commissioning repository."
   ]
  },
  {
   "cell_type": "code",
   "execution_count": 2,
   "metadata": {},
   "outputs": [],
   "source": [
    "#Load the necessary packages\n",
    "import sys\n",
    "sys.path.append('/home/adams/commissioning/misc')\n",
    "import misc as misc\n",
    "import matplotlib.pyplot as plt"
   ]
  },
  {
   "cell_type": "code",
   "execution_count": 3,
   "metadata": {},
   "outputs": [
    {
     "name": "stdout",
     "output_type": "stream",
     "text": [
      "Reminder: Make sure observation record is up-to-date!\n",
      "In switching scan mode\n",
      "Moved to and copying data to /data/adams/apertif/beampos\n",
      "In running mode, will execute commands\n"
     ]
    }
   ],
   "source": [
    "#Copy the data over for working with\n",
    "misc.get_data_beam_post(181026063,181026099,181026063,\n",
    "                        '/home/adams/commissioning/APERTIF_observation_record_1nov2018.csv')"
   ]
  },
  {
   "cell_type": "markdown",
   "metadata": {},
   "source": [
    "Note that I should probably update the code above to print messages as it copies data, but you can also follow along on #happili-transfers on the RO slack."
   ]
  },
  {
   "cell_type": "code",
   "execution_count": 4,
   "metadata": {},
   "outputs": [
    {
     "ename": "NameError",
     "evalue": "global name 'obsrecordfile' is not defined",
     "output_type": "error",
     "traceback": [
      "\u001b[0;31m---------------------------------------------------------------------------\u001b[0m",
      "\u001b[0;31mNameError\u001b[0m                                 Traceback (most recent call last)",
      "\u001b[0;32m<ipython-input-4-d21bed8d5248>\u001b[0m in \u001b[0;36m<module>\u001b[0;34m()\u001b[0m\n\u001b[0;32m----> 1\u001b[0;31m \u001b[0mmisc\u001b[0m\u001b[0;34m.\u001b[0m\u001b[0mprint_offsets\u001b[0m\u001b[0;34m(\u001b[0m\u001b[0;36m181026063\u001b[0m\u001b[0;34m,\u001b[0m\u001b[0;36m181026099\u001b[0m\u001b[0;34m,\u001b[0m\u001b[0;36m181026063\u001b[0m\u001b[0;34m)\u001b[0m\u001b[0;34m\u001b[0m\u001b[0m\n\u001b[0m",
      "\u001b[0;32m/home/adams/commissioning/misc/misc.py\u001b[0m in \u001b[0;36mprint_offsets\u001b[0;34m(startscan, endscan, refscan)\u001b[0m\n\u001b[1;32m     69\u001b[0m \u001b[0;32mdef\u001b[0m \u001b[0mprint_offsets\u001b[0m\u001b[0;34m(\u001b[0m\u001b[0mstartscan\u001b[0m\u001b[0;34m,\u001b[0m\u001b[0mendscan\u001b[0m\u001b[0;34m,\u001b[0m\u001b[0mrefscan\u001b[0m\u001b[0;34m)\u001b[0m\u001b[0;34m:\u001b[0m\u001b[0;34m\u001b[0m\u001b[0m\n\u001b[1;32m     70\u001b[0m     \u001b[0;31m#produce a nicely formatted overview of offsets\u001b[0m\u001b[0;34m\u001b[0m\u001b[0;34m\u001b[0m\u001b[0m\n\u001b[0;32m---> 71\u001b[0;31m     \u001b[0mcoord_list\u001b[0m\u001b[0;34m,\u001b[0m\u001b[0moffset_list\u001b[0m\u001b[0;34m,\u001b[0m\u001b[0mbeam_list\u001b[0m \u001b[0;34m=\u001b[0m \u001b[0mget_coords_and_offsets\u001b[0m\u001b[0;34m(\u001b[0m\u001b[0mstartscan\u001b[0m\u001b[0;34m,\u001b[0m\u001b[0mendscan\u001b[0m\u001b[0;34m,\u001b[0m\u001b[0mrefscan\u001b[0m\u001b[0;34m)\u001b[0m\u001b[0;34m\u001b[0m\u001b[0m\n\u001b[0m\u001b[1;32m     72\u001b[0m     \u001b[0;32mprint\u001b[0m \u001b[0;34m'Beam  Offset in degrees'\u001b[0m\u001b[0;34m\u001b[0m\u001b[0m\n\u001b[1;32m     73\u001b[0m     \u001b[0;32mfor\u001b[0m \u001b[0mbeam\u001b[0m\u001b[0;34m,\u001b[0m\u001b[0moffset\u001b[0m \u001b[0;32min\u001b[0m \u001b[0mzip\u001b[0m\u001b[0;34m(\u001b[0m\u001b[0mbeam_list\u001b[0m\u001b[0;34m,\u001b[0m\u001b[0moffset_list\u001b[0m\u001b[0;34m)\u001b[0m\u001b[0;34m:\u001b[0m\u001b[0;34m\u001b[0m\u001b[0m\n",
      "\u001b[0;32m/home/adams/commissioning/misc/misc.py\u001b[0m in \u001b[0;36mget_coords_and_offsets\u001b[0;34m(startscan, endscan, refscan)\u001b[0m\n\u001b[1;32m     42\u001b[0m     \u001b[0mscans\u001b[0m\u001b[0;34m.\u001b[0m\u001b[0msetstartscan\u001b[0m\u001b[0;34m(\u001b[0m\u001b[0mstartscan\u001b[0m\u001b[0;34m)\u001b[0m\u001b[0;34m\u001b[0m\u001b[0m\n\u001b[1;32m     43\u001b[0m     \u001b[0mscans\u001b[0m\u001b[0;34m.\u001b[0m\u001b[0msetendscan\u001b[0m\u001b[0;34m(\u001b[0m\u001b[0mendscan\u001b[0m\u001b[0;34m)\u001b[0m\u001b[0;34m\u001b[0m\u001b[0m\n\u001b[0;32m---> 44\u001b[0;31m     \u001b[0mmode\u001b[0m\u001b[0;34m,\u001b[0m\u001b[0mscan_list\u001b[0m\u001b[0;34m,\u001b[0m\u001b[0mbeam_list\u001b[0m \u001b[0;34m=\u001b[0m \u001b[0mcc\u001b[0m\u001b[0;34m.\u001b[0m\u001b[0mget_scan_list\u001b[0m\u001b[0;34m(\u001b[0m\u001b[0mscans\u001b[0m\u001b[0;34m,\u001b[0m\u001b[0mobsrecordfile\u001b[0m\u001b[0;34m)\u001b[0m\u001b[0;34m\u001b[0m\u001b[0m\n\u001b[0m\u001b[1;32m     45\u001b[0m \u001b[0;34m\u001b[0m\u001b[0m\n\u001b[1;32m     46\u001b[0m     \u001b[0;31m#then set arrays of the right length to store coordinates\u001b[0m\u001b[0;34m\u001b[0m\u001b[0;34m\u001b[0m\u001b[0m\n",
      "\u001b[0;31mNameError\u001b[0m: global name 'obsrecordfile' is not defined"
     ]
    }
   ],
   "source": [
    "misc.print_offsets(181026063,181026099,181026063)"
   ]
  },
  {
   "cell_type": "code",
   "execution_count": null,
   "metadata": {},
   "outputs": [],
   "source": []
  }
 ],
 "metadata": {
  "kernelspec": {
   "display_name": "Python 2",
   "language": "python",
   "name": "python2"
  },
  "language_info": {
   "codemirror_mode": {
    "name": "ipython",
    "version": 2
   },
   "file_extension": ".py",
   "mimetype": "text/x-python",
   "name": "python",
   "nbconvert_exporter": "python",
   "pygments_lexer": "ipython2",
   "version": "2.7.12"
  }
 },
 "nbformat": 4,
 "nbformat_minor": 2
}
