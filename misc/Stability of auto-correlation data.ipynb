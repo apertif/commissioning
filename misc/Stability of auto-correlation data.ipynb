{
 "cells": [
  {
   "cell_type": "markdown",
   "metadata": {},
   "source": [
    "The purpose of this notebook is to look at auto-correlation data from observation 181026018 (central beam on 3C48). Tom had noticed instabilities in the auto-correlations, especially RT8, which is slated to be the first antenna recabled. However, RT8 also suffered from issues of DCUs turning off due to overheating. It is unlikely that this is the cause since DCUs can only turn off during the observation, not back on, and Tom noticed instability at the beginning that then stabilized. It is possible that multiple DCUs turned off sequentially and then things stabilized. As a check, want to get a recent observation after the airflow issue was fixed and quickly plot autocorrelations versus time for every antenna."
   ]
  },
  {
   "cell_type": "code",
   "execution_count": 2,
   "metadata": {},
   "outputs": [
    {
     "data": {
      "text/plain": [
       "0"
      ]
     },
     "execution_count": 2,
     "metadata": {},
     "output_type": "execute_result"
    }
   ],
   "source": [
    "#get the data, using script from Vanessa\n",
    "import os\n",
    "import sys\n",
    "\n",
    "#move to where I want the data\n",
    "os.chdir('/data/adams/apertif/autocorr')\n",
    "\n",
    "#and feed the command to script\n",
    "altadata_string_command = \"python /home/adams/altadata/getdata_alta.py 181026 018-018 00-00\"\n",
    "os.system(altadata_string_command)"
   ]
  },
  {
   "cell_type": "code",
   "execution_count": null,
   "metadata": {},
   "outputs": [],
   "source": [
    "#now that I have data, figure out how to read auto-corr column and plot\n",
    "#look at examples from Boudewijn....\n",
    "import casacore.tables as pt\n",
    "\n",
    "#I would like to do this in taql, but don't know how.\n",
    "#For now, can take a quick look at plotms in CASA - just want to see"
   ]
  },
  {
   "cell_type": "markdown",
   "metadata": {},
   "source": [
    "Okay - looked in plot ms and RT8 actually looks fairly stable while RT4 and RTB are maybe more problematic.\n",
    "\n",
    "\n",
    "Also check rfigui - how does it look in terms of RFI?\n",
    "It actually shows a really weird banding structure in frequency. Which I dont' think is cable related?\n",
    "\n",
    "Look at a quick recent observation from last weekend (longer observations still ingesting)- take element beam and compound beam."
   ]
  },
  {
   "cell_type": "code",
   "execution_count": 3,
   "metadata": {},
   "outputs": [
    {
     "data": {
      "text/plain": [
       "0"
      ]
     },
     "execution_count": 3,
     "metadata": {},
     "output_type": "execute_result"
    }
   ],
   "source": [
    "os.chdir('/data/adams/apertif/autocorr')\n",
    "\n",
    "#and feed the command to script\n",
    "altadata_string_command = \"python /home/adams/altadata/getdata_alta.py 181102 006-007 00-00\"\n",
    "os.system(altadata_string_command)"
   ]
  },
  {
   "cell_type": "code",
   "execution_count": 4,
   "metadata": {},
   "outputs": [
    {
     "data": {
      "text/plain": [
       "0"
      ]
     },
     "execution_count": 4,
     "metadata": {},
     "output_type": "execute_result"
    }
   ],
   "source": [
    "os.chdir('/data/adams/apertif/autocorr')\n",
    "\n",
    "#and feed the command to script\n",
    "altadata_string_command = \"python /home/adams/altadata/getdata_alta.py 181102 007-007 00-00\"\n",
    "os.system(altadata_string_command)"
   ]
  },
  {
   "cell_type": "markdown",
   "metadata": {},
   "source": [
    "Only have compound observation - element observation (#7) failed"
   ]
  },
  {
   "cell_type": "code",
   "execution_count": 5,
   "metadata": {},
   "outputs": [
    {
     "data": {
      "text/plain": [
       "0"
      ]
     },
     "execution_count": 5,
     "metadata": {},
     "output_type": "execute_result"
    }
   ],
   "source": [
    "#get test obs for element:\n",
    "os.chdir('/data/adams/apertif/autocorr')\n",
    "\n",
    "#and feed the command to script\n",
    "altadata_string_command = \"python /home/adams/altadata/getdata_alta.py 181102 005-005 00-00\"\n",
    "os.system(altadata_string_command)"
   ]
  },
  {
   "cell_type": "code",
   "execution_count": 6,
   "metadata": {},
   "outputs": [
    {
     "data": {
      "text/plain": [
       "0"
      ]
     },
     "execution_count": 6,
     "metadata": {},
     "output_type": "execute_result"
    }
   ],
   "source": [
    "#get data that Tom looked at as verification:\n",
    "os.chdir('/data/adams/apertif/autocorr')\n",
    "\n",
    "#and feed the command to script\n",
    "altadata_string_command = \"python /home/adams/altadata/getdata_alta.py 181005 021-021 00-00\"\n",
    "os.system(altadata_string_command)"
   ]
  },
  {
   "cell_type": "code",
   "execution_count": null,
   "metadata": {},
   "outputs": [],
   "source": []
  }
 ],
 "metadata": {
  "kernelspec": {
   "display_name": "Python 2",
   "language": "python",
   "name": "python2"
  },
  "language_info": {
   "codemirror_mode": {
    "name": "ipython",
    "version": 2
   },
   "file_extension": ".py",
   "mimetype": "text/x-python",
   "name": "python",
   "nbconvert_exporter": "python",
   "pygments_lexer": "ipython2",
   "version": "2.7.12"
  }
 },
 "nbformat": 4,
 "nbformat_minor": 2
}
