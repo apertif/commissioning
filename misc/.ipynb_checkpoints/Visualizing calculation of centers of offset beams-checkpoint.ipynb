{
 "cells": [
  {
   "cell_type": "markdown",
   "metadata": {},
   "source": [
    "With the change from mid-October (implemented 15/16 October) of the sign in calc_phase_dir, the phase centers for compound beams should now be computed directly. This means we can use the parameter --field_beam when specifying observations to place a target in the non-central beam. While doing this, I noticed that the central coordinates of the specified beam were slightly different than that of the target specified. This notebook is an exploration and visualization of this issue. It relies on code that can be found in the apertif github commissioning repository."
   ]
  },
  {
   "cell_type": "code",
   "execution_count": 1,
   "metadata": {},
   "outputs": [],
   "source": [
    "#Load the necessary packages\n",
    "import sys\n",
    "sys.path.append('/home/adams/commissioning/misc')\n",
    "import misc as misc\n",
    "import matplotlib.pyplot as plt"
   ]
  },
  {
   "cell_type": "code",
   "execution_count": null,
   "metadata": {},
   "outputs": [
    {
     "name": "stdout",
     "output_type": "stream",
     "text": [
      "Reminder: Make sure observation record is up-to-date!\n",
      "In switching scan mode\n",
      "Moved to and copying data to /data/adams/apertif/beampos\n",
      "In running mode, will execute commands\n"
     ]
    }
   ],
   "source": [
    "#Copy the data over for working with\n",
    "misc.get_data_beam_pos(181026063,181026099,181026063,\n",
    "                        '/home/adams/commissioning/APERTIF_observation_record_1nov2018.csv')"
   ]
  },
  {
   "cell_type": "markdown",
   "metadata": {},
   "source": [
    "Note that I should probably update the code above to print messages as it copies data, but you can also follow along on #happili-transfers on the RO slack."
   ]
  },
  {
   "cell_type": "code",
   "execution_count": null,
   "metadata": {},
   "outputs": [],
   "source": [
    "misc.print_offsets(181026063,181026099,181026063,\n",
    "                  '/home/adams/commissioning/APERTIF_observation_record_1nov2018.csv')"
   ]
  },
  {
   "cell_type": "code",
   "execution_count": null,
   "metadata": {},
   "outputs": [],
   "source": []
  }
 ],
 "metadata": {
  "kernelspec": {
   "display_name": "Python 2",
   "language": "python",
   "name": "python2"
  },
  "language_info": {
   "codemirror_mode": {
    "name": "ipython",
    "version": 2
   },
   "file_extension": ".py",
   "mimetype": "text/x-python",
   "name": "python",
   "nbconvert_exporter": "python",
   "pygments_lexer": "ipython2",
   "version": "2.7.12"
  }
 },
 "nbformat": 4,
 "nbformat_minor": 2
}
