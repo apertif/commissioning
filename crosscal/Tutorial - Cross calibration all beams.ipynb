{
 "cells": [
  {
   "cell_type": "markdown",
   "metadata": {},
   "source": [
    "This notebook is a tutorial for demonstrating the functionality of the code for looking at cross calibration of all beams."
   ]
  },
  {
   "cell_type": "code",
   "execution_count": null,
   "metadata": {},
   "outputs": [],
   "source": [
    "#Load all magic and packaged needed\n",
    "%matplotlib notebook\n",
    "\n",
    "import sys\n",
    "sys.path.append('/home/adams/commissioning/crosscal')\n",
    "import crosscal as cc\n",
    "\n",
    "import os\n",
    "import numpy as np\n",
    "from astropy.io import ascii\n",
    "import apercal\n",
    "import casacore.tables as pt\n",
    "import matplotlib.pyplot as plt"
   ]
  },
  {
   "cell_type": "code",
   "execution_count": null,
   "metadata": {},
   "outputs": [],
   "source": [
    "#start apercal logger, because I'll use apercal routines\n",
    "#and may be helpful to have that record\n",
    "#set up logging\n",
    "%config IPCompleter.greedy=True\n",
    "%matplotlib notebook\n",
    "import apercal.libs.lib as lib\n",
    "lib.setup_logger('info', logfile='/home/adams/commissioning/crosscal/log/ccal_tutorial.log')"
   ]
  },
  {
   "cell_type": "code",
   "execution_count": null,
   "metadata": {},
   "outputs": [],
   "source": [
    "#Define files used throughout\n",
    "obsrecordfile = '/home/adams/commissioning/APERTIF_observation_record_1nov2018.csv'\n",
    "basedir='/data/adams/apertif/crosscal'\n",
    "cfgfile='/home/adams/commissioning/crosscal/ccal.cfg'"
   ]
  },
  {
   "cell_type": "code",
   "execution_count": null,
   "metadata": {},
   "outputs": [],
   "source": [
    "#Define a set of scans to look at\n",
    "#these should (for now) go over a set of beam switching observation\n",
    "#It doesn't have to be a complete cycle\n",
    "#And can repeat beams, but repetition will not be taken into account\n",
    "scans = cc.ScanSpecification()\n",
    "scans.setstartscan('181026063')\n",
    "scans.setendscan('181026067')"
   ]
  },
  {
   "cell_type": "code",
   "execution_count": null,
   "metadata": {},
   "outputs": [],
   "source": [
    "#copy the specified scans over\n",
    "cc.copy_scans(scans,obsrecordfile,basedir,run=True)"
   ]
  },
  {
   "cell_type": "code",
   "execution_count": null,
   "metadata": {},
   "outputs": [],
   "source": [
    "#Update source name to remove any beam numbering\n",
    "#This is required so that the proper model is identified\n",
    "cc.fix_source_name(scans,obsrecordfile,basedir) #make sure source is recognized calibrator"
   ]
  },
  {
   "cell_type": "code",
   "execution_count": null,
   "metadata": {},
   "outputs": [],
   "source": [
    "#Flag the scans\n",
    "#Can specify edges and ghosts options to preflag\n",
    "#shadowing, AOFlagger will always run\n",
    "\"\"\"\n",
    "#Should add option to flag bad antennas\n",
    "\"\"\"\n",
    "cc.flag_scans(scans,obsrecordfile,basedir,cfgfile,edges=True,ghosts=True)"
   ]
  },
  {
   "cell_type": "code",
   "execution_count": null,
   "metadata": {},
   "outputs": [],
   "source": [
    "#calibrate the scans\n",
    "cc.calibrate_scans(scans,obsrecordfile,basedir,cfgfile)"
   ]
  }
 ],
 "metadata": {
  "kernelspec": {
   "display_name": "Python 2",
   "language": "python",
   "name": "python2"
  },
  "language_info": {
   "codemirror_mode": {
    "name": "ipython",
    "version": 2
   },
   "file_extension": ".py",
   "mimetype": "text/x-python",
   "name": "python",
   "nbconvert_exporter": "python",
   "pygments_lexer": "ipython2",
   "version": "2.7.12"
  }
 },
 "nbformat": 4,
 "nbformat_minor": 2
}
