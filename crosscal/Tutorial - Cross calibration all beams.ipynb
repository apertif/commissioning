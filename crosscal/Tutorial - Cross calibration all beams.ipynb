{
 "cells": [
  {
   "cell_type": "markdown",
   "metadata": {},
   "source": [
    "This notebook is a tutorial for demonstrating the functionality of the code for looking at cross calibration of all beams.\n",
    "\n",
    "I am running it on happili-02 at the moment"
   ]
  },
  {
   "cell_type": "code",
   "execution_count": 1,
   "metadata": {},
   "outputs": [],
   "source": [
    "#Load all magic and packaged needed\n",
    "%matplotlib notebook\n",
    "\n",
    "import sys\n",
    "sys.path.append('/home/adams/commissioning/crosscal')\n",
    "import crosscal as cc\n",
    "\n",
    "import os\n",
    "import numpy as np\n",
    "from astropy.io import ascii\n",
    "import apercal\n",
    "import casacore.tables as pt\n",
    "import matplotlib.pyplot as plt"
   ]
  },
  {
   "cell_type": "code",
   "execution_count": 2,
   "metadata": {},
   "outputs": [
    {
     "name": "stderr",
     "output_type": "stream",
     "text": [
      "root - INFO : Logging started!\n",
      "root - INFO : To see the log in a bash window use the following command:\n",
      "root - INFO : tail -n +1 -f /home/adams/commissioning/crosscal/log/ccal_tutorial.log\n"
     ]
    },
    {
     "data": {
      "text/plain": [
       "<logging.RootLogger at 0x7fe509a1efd0>"
      ]
     },
     "execution_count": 2,
     "metadata": {},
     "output_type": "execute_result"
    }
   ],
   "source": [
    "#start apercal logger, because I'll use apercal routines\n",
    "#and may be helpful to have that record\n",
    "#set up logging\n",
    "%config IPCompleter.greedy=True\n",
    "%matplotlib notebook\n",
    "import apercal.libs.lib as lib\n",
    "lib.setup_logger('info', logfile='/home/adams/commissioning/crosscal/log/ccal_tutorial.log')"
   ]
  },
  {
   "cell_type": "code",
   "execution_count": 3,
   "metadata": {},
   "outputs": [],
   "source": [
    "#Define files used throughout\n",
    "obsrecordfile = '/home/adams/commissioning/APERTIF_observation_record_1nov2018.csv'\n",
    "basedir='/data/adams/apertif/crosscal'\n",
    "cfgfile='/home/adams/commissioning/crosscal/ccal.cfg'"
   ]
  },
  {
   "cell_type": "code",
   "execution_count": 4,
   "metadata": {},
   "outputs": [],
   "source": [
    "#Define a set of scans to look at\n",
    "#these should (for now) go over a set of beam switching observation\n",
    "#It doesn't have to be a complete cycle\n",
    "#And can repeat beams, but repetition will not be taken into account\n",
    "scans = cc.ScanSpecification()\n",
    "scans.setstartscan('181026063')\n",
    "scans.setendscan('181026067')"
   ]
  },
  {
   "cell_type": "code",
   "execution_count": 5,
   "metadata": {},
   "outputs": [
    {
     "name": "stdout",
     "output_type": "stream",
     "text": [
      "Reminder: Make sure observation record is up-to-date!\n",
      "In switching scan mode\n",
      "In running mode, will execute commands\n",
      "Moved to and copying data to /data/adams/apertif/crosscal/181026063/00/raw\n",
      "Running python /home/adams/altadata/getdata_alta.py 181026 063-063 00-00\n",
      "Moved to and copying data to /data/adams/apertif/crosscal/181026064/00/raw\n",
      "Running python /home/adams/altadata/getdata_alta.py 181026 064-064 01-01\n",
      "Moved to and copying data to /data/adams/apertif/crosscal/181026065/00/raw\n",
      "Running python /home/adams/altadata/getdata_alta.py 181026 065-065 02-02\n",
      "Moved to and copying data to /data/adams/apertif/crosscal/181026066/00/raw\n",
      "Running python /home/adams/altadata/getdata_alta.py 181026 066-066 03-03\n",
      "Moved to and copying data to /data/adams/apertif/crosscal/181026067/00/raw\n",
      "Running python /home/adams/altadata/getdata_alta.py 181026 067-067 04-04\n"
     ]
    }
   ],
   "source": [
    "#copy the specified scans over\n",
    "cc.copy_scans(scans,obsrecordfile,basedir,run=True)"
   ]
  },
  {
   "cell_type": "code",
   "execution_count": 6,
   "metadata": {},
   "outputs": [
    {
     "name": "stdout",
     "output_type": "stream",
     "text": [
      "Reminder: Make sure observation record is up-to-date!\n",
      "In switching scan mode\n",
      "Successful read/write open of default-locked table /data/adams/apertif/crosscal/181026063/00/raw/WSRTA181026063_B000.MS::FIELD: 9 columns, 1 rows\n",
      "Successful read/write open of default-locked table /data/adams/apertif/crosscal/181026064/00/raw/WSRTA181026064_B001.MS::FIELD: 9 columns, 1 rows\n",
      "Successful read/write open of default-locked table /data/adams/apertif/crosscal/181026065/00/raw/WSRTA181026065_B002.MS::FIELD: 9 columns, 1 rows\n",
      "Successful read/write open of default-locked table /data/adams/apertif/crosscal/181026066/00/raw/WSRTA181026066_B003.MS::FIELD: 9 columns, 1 rows\n",
      "Successful read/write open of default-locked table /data/adams/apertif/crosscal/181026067/00/raw/WSRTA181026067_B004.MS::FIELD: 9 columns, 1 rows\n"
     ]
    }
   ],
   "source": [
    "#Update source name to remove any beam numbering\n",
    "#This is required so that the proper model is identified\n",
    "cc.fix_source_name(scans,obsrecordfile,basedir) #make sure source is recognized calibrator"
   ]
  },
  {
   "cell_type": "code",
   "execution_count": 7,
   "metadata": {},
   "outputs": [
    {
     "name": "stdout",
     "output_type": "stream",
     "text": [
      "Reminder: Make sure observation record is up-to-date!\n",
      "In switching scan mode\n"
     ]
    },
    {
     "name": "stderr",
     "output_type": "stream",
     "text": [
      "config - INFO :  Configuration file /home/adams/commissioning/crosscal/ccal.cfg successfully read!\n",
      "apercal.modules.preflag - INFO : Starting Pre-flagging step\n",
      "apercal.modules.preflag - INFO : Flagging shadowed antennas\n"
     ]
    },
    {
     "name": "stdout",
     "output_type": "stream",
     "text": [
      "Setting fluxcal to WSRTA181026063_B000.MS\n",
      "Flagging data set /data/adams/apertif/crosscal/181026063/00/raw/WSRTA181026063_B000.MS\n"
     ]
    },
    {
     "name": "stderr",
     "output_type": "stream",
     "text": [
      "apercal.modules.preflag - WARNING : Polarised calibrator dataset not specified or dataset not available. Not flagging shadowed antennas for polarised calibrator\n",
      "apercal.modules.preflag - WARNING : No target dataset specified! Not flagging shadowed antennas for target datasets\n",
      "apercal.modules.preflag - INFO : Flagging subband edges\n",
      "apercal.modules.preflag - WARNING : No polarised calibrator dataset specified. Subband edges of polarised calibrator will not be flagged!\n",
      "apercal.modules.preflag - WARNING : No target dataset specified. Subband edges of target dataset(s) will not be flagged!\n",
      "apercal.modules.preflag - INFO : Flagging ghost channels\n",
      "apercal.modules.preflag - WARNING : No polarised calibrator dataset specified. Ghosts in polarised calibrator will not be flagged!\n",
      "apercal.modules.preflag - WARNING : No target dataset specified. Ghosts in target dataset(s) will not be flagged!\n",
      "apercal.modules.preflag - INFO : Flagging auto-correlations\n",
      "apercal.modules.preflag - WARNING : No polarised calibrator dataset specified. Auto-correlations for polariased calibrator dataset will not be flagged!\n",
      "apercal.modules.preflag - WARNING : Target dataset not specified. Auto-correlations for target beam dataset(s) will not be flagged!\n",
      "apercal.modules.preflag - INFO : Derived preliminary bandpass table for AOFlagging\n",
      "apercal.modules.preflag - INFO : Using AOFlagger to flag flux calibrator dataset\n",
      "apercal.modules.preflag - INFO : Pre-flagging step done\n",
      "apercal.modules.preflag - INFO : Starting Pre-flagging step\n",
      "apercal.modules.preflag - INFO : Flagging shadowed antennas\n"
     ]
    },
    {
     "name": "stdout",
     "output_type": "stream",
     "text": [
      "Setting fluxcal to WSRTA181026064_B001.MS\n",
      "Flagging data set /data/adams/apertif/crosscal/181026064/00/raw/WSRTA181026064_B001.MS\n"
     ]
    },
    {
     "name": "stderr",
     "output_type": "stream",
     "text": [
      "apercal.modules.preflag - WARNING : Polarised calibrator dataset not specified or dataset not available. Not flagging shadowed antennas for polarised calibrator\n",
      "apercal.modules.preflag - WARNING : No target dataset specified! Not flagging shadowed antennas for target datasets\n",
      "apercal.modules.preflag - INFO : Flagging subband edges\n",
      "apercal.modules.preflag - WARNING : No polarised calibrator dataset specified. Subband edges of polarised calibrator will not be flagged!\n",
      "apercal.modules.preflag - WARNING : No target dataset specified. Subband edges of target dataset(s) will not be flagged!\n",
      "apercal.modules.preflag - INFO : Flagging ghost channels\n",
      "apercal.modules.preflag - WARNING : No polarised calibrator dataset specified. Ghosts in polarised calibrator will not be flagged!\n",
      "apercal.modules.preflag - WARNING : No target dataset specified. Ghosts in target dataset(s) will not be flagged!\n",
      "apercal.modules.preflag - INFO : Flagging auto-correlations\n",
      "apercal.modules.preflag - WARNING : No polarised calibrator dataset specified. Auto-correlations for polariased calibrator dataset will not be flagged!\n",
      "apercal.modules.preflag - WARNING : Target dataset not specified. Auto-correlations for target beam dataset(s) will not be flagged!\n",
      "apercal.modules.preflag - INFO : Derived preliminary bandpass table for AOFlagging\n",
      "apercal.modules.preflag - INFO : Using AOFlagger to flag flux calibrator dataset\n",
      "apercal.modules.preflag - INFO : Pre-flagging step done\n",
      "apercal.modules.preflag - INFO : Starting Pre-flagging step\n",
      "apercal.modules.preflag - INFO : Flagging shadowed antennas\n"
     ]
    },
    {
     "name": "stdout",
     "output_type": "stream",
     "text": [
      "Setting fluxcal to WSRTA181026065_B002.MS\n",
      "Flagging data set /data/adams/apertif/crosscal/181026065/00/raw/WSRTA181026065_B002.MS\n"
     ]
    },
    {
     "name": "stderr",
     "output_type": "stream",
     "text": [
      "apercal.modules.preflag - WARNING : Polarised calibrator dataset not specified or dataset not available. Not flagging shadowed antennas for polarised calibrator\n",
      "apercal.modules.preflag - WARNING : No target dataset specified! Not flagging shadowed antennas for target datasets\n",
      "apercal.modules.preflag - INFO : Flagging subband edges\n",
      "apercal.modules.preflag - WARNING : No polarised calibrator dataset specified. Subband edges of polarised calibrator will not be flagged!\n",
      "apercal.modules.preflag - WARNING : No target dataset specified. Subband edges of target dataset(s) will not be flagged!\n",
      "apercal.modules.preflag - INFO : Flagging ghost channels\n",
      "apercal.modules.preflag - WARNING : No polarised calibrator dataset specified. Ghosts in polarised calibrator will not be flagged!\n",
      "apercal.modules.preflag - WARNING : No target dataset specified. Ghosts in target dataset(s) will not be flagged!\n",
      "apercal.modules.preflag - INFO : Flagging auto-correlations\n",
      "apercal.modules.preflag - WARNING : No polarised calibrator dataset specified. Auto-correlations for polariased calibrator dataset will not be flagged!\n",
      "apercal.modules.preflag - WARNING : Target dataset not specified. Auto-correlations for target beam dataset(s) will not be flagged!\n",
      "apercal.modules.preflag - INFO : Derived preliminary bandpass table for AOFlagging\n",
      "apercal.modules.preflag - INFO : Using AOFlagger to flag flux calibrator dataset\n",
      "apercal.modules.preflag - INFO : Pre-flagging step done\n",
      "apercal.modules.preflag - INFO : Starting Pre-flagging step\n",
      "apercal.modules.preflag - INFO : Flagging shadowed antennas\n"
     ]
    },
    {
     "name": "stdout",
     "output_type": "stream",
     "text": [
      "Setting fluxcal to WSRTA181026066_B003.MS\n",
      "Flagging data set /data/adams/apertif/crosscal/181026066/00/raw/WSRTA181026066_B003.MS\n"
     ]
    },
    {
     "name": "stderr",
     "output_type": "stream",
     "text": [
      "apercal.modules.preflag - WARNING : Polarised calibrator dataset not specified or dataset not available. Not flagging shadowed antennas for polarised calibrator\n",
      "apercal.modules.preflag - WARNING : No target dataset specified! Not flagging shadowed antennas for target datasets\n",
      "apercal.modules.preflag - INFO : Flagging subband edges\n",
      "apercal.modules.preflag - WARNING : No polarised calibrator dataset specified. Subband edges of polarised calibrator will not be flagged!\n",
      "apercal.modules.preflag - WARNING : No target dataset specified. Subband edges of target dataset(s) will not be flagged!\n",
      "apercal.modules.preflag - INFO : Flagging ghost channels\n",
      "apercal.modules.preflag - WARNING : No polarised calibrator dataset specified. Ghosts in polarised calibrator will not be flagged!\n",
      "apercal.modules.preflag - WARNING : No target dataset specified. Ghosts in target dataset(s) will not be flagged!\n",
      "apercal.modules.preflag - INFO : Flagging auto-correlations\n",
      "apercal.modules.preflag - WARNING : No polarised calibrator dataset specified. Auto-correlations for polariased calibrator dataset will not be flagged!\n",
      "apercal.modules.preflag - WARNING : Target dataset not specified. Auto-correlations for target beam dataset(s) will not be flagged!\n",
      "apercal.modules.preflag - INFO : Derived preliminary bandpass table for AOFlagging\n",
      "apercal.modules.preflag - INFO : Using AOFlagger to flag flux calibrator dataset\n",
      "apercal.modules.preflag - INFO : Pre-flagging step done\n",
      "apercal.modules.preflag - INFO : Starting Pre-flagging step\n",
      "apercal.modules.preflag - INFO : Flagging shadowed antennas\n"
     ]
    },
    {
     "name": "stdout",
     "output_type": "stream",
     "text": [
      "Setting fluxcal to WSRTA181026067_B004.MS\n",
      "Flagging data set /data/adams/apertif/crosscal/181026067/00/raw/WSRTA181026067_B004.MS\n"
     ]
    },
    {
     "name": "stderr",
     "output_type": "stream",
     "text": [
      "apercal.modules.preflag - WARNING : Polarised calibrator dataset not specified or dataset not available. Not flagging shadowed antennas for polarised calibrator\n",
      "apercal.modules.preflag - WARNING : No target dataset specified! Not flagging shadowed antennas for target datasets\n",
      "apercal.modules.preflag - INFO : Flagging subband edges\n",
      "apercal.modules.preflag - WARNING : No polarised calibrator dataset specified. Subband edges of polarised calibrator will not be flagged!\n",
      "apercal.modules.preflag - WARNING : No target dataset specified. Subband edges of target dataset(s) will not be flagged!\n",
      "apercal.modules.preflag - INFO : Flagging ghost channels\n",
      "apercal.modules.preflag - WARNING : No polarised calibrator dataset specified. Ghosts in polarised calibrator will not be flagged!\n",
      "apercal.modules.preflag - WARNING : No target dataset specified. Ghosts in target dataset(s) will not be flagged!\n",
      "apercal.modules.preflag - INFO : Flagging auto-correlations\n",
      "apercal.modules.preflag - WARNING : No polarised calibrator dataset specified. Auto-correlations for polariased calibrator dataset will not be flagged!\n",
      "apercal.modules.preflag - WARNING : Target dataset not specified. Auto-correlations for target beam dataset(s) will not be flagged!\n",
      "apercal.modules.preflag - INFO : Derived preliminary bandpass table for AOFlagging\n",
      "apercal.modules.preflag - INFO : Using AOFlagger to flag flux calibrator dataset\n",
      "apercal.modules.preflag - INFO : Pre-flagging step done\n"
     ]
    }
   ],
   "source": [
    "#Flag the scans\n",
    "#Can specify edges and ghosts options to preflag\n",
    "#shadowing, AOFlagger will always run\n",
    "\"\"\"\n",
    "Should add option to flag bad antennas\n",
    "\"\"\"\n",
    "cc.flag_scans(scans,obsrecordfile,basedir,cfgfile,edges=True,ghosts=True)"
   ]
  },
  {
   "cell_type": "code",
   "execution_count": 8,
   "metadata": {},
   "outputs": [
    {
     "name": "stdout",
     "output_type": "stream",
     "text": [
      "Warning! Have you run fix_source_name?\n",
      "Reminder: Make sure observation record is up-to-date!\n"
     ]
    },
    {
     "name": "stderr",
     "output_type": "stream",
     "text": [
      "config - INFO :  Configuration file /home/adams/commissioning/crosscal/ccal.cfg successfully read!\n",
      "apercal.modules.ccal - INFO : Starting CROSS CALIBRATION \n",
      "apercal.modules.ccal - INFO : Calculating bandpass corrections for flux calibrator\n"
     ]
    },
    {
     "name": "stdout",
     "output_type": "stream",
     "text": [
      "In switching scan mode\n",
      "Setting fluxcal to WSRTA181026063_B000.MS\n",
      "Calibrating data set /data/adams/apertif/crosscal/181026063/00/raw/WSRTA181026063_B000.MS\n"
     ]
    },
    {
     "name": "stderr",
     "output_type": "stream",
     "text": [
      "apercal.libs.lib - INFO : ********************************************************************************\n",
      "Warning: no write permission for setjy.last, cannot save task\n",
      "         inputs in dir /tmp/drivecasa...\n",
      "********************************************************************************\n",
      "\n",
      "\n"
     ]
    },
    {
     "name": "stdout",
     "output_type": "stream",
     "text": [
      "Successful readonly open of default-locked table /data/adams/apertif/crosscal/181026063/00/raw/WSRTA181026063_B000.MS: 24 columns, 1404 rows\n"
     ]
    },
    {
     "name": "stderr",
     "output_type": "stream",
     "text": [
      "apercal.modules.ccal - INFO : Calculating gain corrections for flux calibrator\n",
      "apercal.modules.ccal - INFO : Calculating global delay corrections for flux calibrator\n",
      "apercal.modules.ccal - INFO : Calculating cross-hand delay corrections for polarised calibrator\n",
      "apercal.modules.ccal - ERROR : Polarised calibrator dataset not specified or dataset not available. Polarisation calibration will probably not work!\n",
      "apercal.modules.ccal - INFO : Calculating leakage corrections for flux calibrator\n",
      "apercal.modules.ccal - INFO : Calculating polarisation angle corrections for polarised calibrator\n",
      "apercal.modules.ccal - ERROR : Polarised calibrator dataset not specified or dataset not available.Cross calibration will probably not work!\n",
      "apercal.modules.ccal - INFO : Applying solutions to calibrators\n",
      "apercal.modules.ccal - ERROR : # Polarised calibrator dataset not specified or dataset not available. Application of cross calibration solutions not possible!\n",
      "apercal.modules.ccal - INFO : CROSS CALIBRATION done \n",
      "apercal.modules.ccal - INFO : Starting CROSS CALIBRATION \n",
      "apercal.modules.ccal - INFO : Calculating bandpass corrections for flux calibrator\n"
     ]
    },
    {
     "name": "stdout",
     "output_type": "stream",
     "text": [
      "Successful readonly open of default-locked table /data/adams/apertif/crosscal/181026063/00/raw/WSRTA181026063_B000.MS: 25 columns, 1404 rows\n",
      "Setting fluxcal to WSRTA181026064_B001.MS\n",
      "Calibrating data set /data/adams/apertif/crosscal/181026064/00/raw/WSRTA181026064_B001.MS\n"
     ]
    },
    {
     "name": "stderr",
     "output_type": "stream",
     "text": [
      "apercal.libs.lib - INFO : ********************************************************************************\n",
      "Warning: no write permission for setjy.last, cannot save task\n",
      "         inputs in dir /tmp/drivecasa...\n",
      "********************************************************************************\n",
      "\n",
      "\n"
     ]
    },
    {
     "name": "stdout",
     "output_type": "stream",
     "text": [
      "Successful readonly open of default-locked table /data/adams/apertif/crosscal/181026064/00/raw/WSRTA181026064_B001.MS: 24 columns, 1248"
     ]
    },
    {
     "name": "stderr",
     "output_type": "stream",
     "text": [
      "apercal.modules.ccal - INFO : Calculating gain corrections for flux calibrator\n",
      "apercal.modules.ccal - INFO : Calculating global delay corrections for flux calibrator\n",
      "apercal.modules.ccal - INFO : Calculating cross-hand delay corrections for polarised calibrator\n",
      "apercal.modules.ccal - ERROR : Polarised calibrator dataset not specified or dataset not available. Polarisation calibration will probably not work!\n",
      "apercal.modules.ccal - INFO : Calculating leakage corrections for flux calibrator\n",
      "apercal.modules.ccal - INFO : Calculating polarisation angle corrections for polarised calibrator\n",
      "apercal.modules.ccal - ERROR : Polarised calibrator dataset not specified or dataset not available.Cross calibration will probably not work!\n",
      "apercal.modules.ccal - INFO : Applying solutions to calibrators\n",
      "apercal.modules.ccal - ERROR : # Polarised calibrator dataset not specified or dataset not available. Application of cross calibration solutions not possible!\n",
      "apercal.modules.ccal - INFO : CROSS CALIBRATION done \n",
      "apercal.modules.ccal - INFO : Starting CROSS CALIBRATION \n",
      "apercal.modules.ccal - INFO : Calculating bandpass corrections for flux calibrator\n"
     ]
    },
    {
     "name": "stdout",
     "output_type": "stream",
     "text": [
      " rows\n",
      "Successful readonly open of default-locked table /data/adams/apertif/crosscal/181026064/00/raw/WSRTA181026064_B001.MS: 25 columns, 1248 rows\n",
      "Setting fluxcal to WSRTA181026065_B002.MS\n",
      "Calibrating data set /data/adams/apertif/crosscal/181026065/00/raw/WSRTA181026065_B002.MS\n"
     ]
    },
    {
     "name": "stderr",
     "output_type": "stream",
     "text": [
      "apercal.libs.lib - INFO : ********************************************************************************\n",
      "Warning: no write permission for setjy.last, cannot save task\n",
      "         inputs in dir /tmp/drivecasa...\n",
      "********************************************************************************\n",
      "\n",
      "\n"
     ]
    },
    {
     "name": "stdout",
     "output_type": "stream",
     "text": [
      "Successful readonly open of default-locked table /data/adams/apertif/crosscal/181026065/00/raw/WSRTA181026065_B002.MS: 24 columns, 1248 rows\n"
     ]
    },
    {
     "name": "stderr",
     "output_type": "stream",
     "text": [
      "apercal.modules.ccal - INFO : Calculating gain corrections for flux calibrator\n",
      "apercal.modules.ccal - INFO : Calculating global delay corrections for flux calibrator\n",
      "apercal.modules.ccal - INFO : Calculating cross-hand delay corrections for polarised calibrator\n",
      "apercal.modules.ccal - ERROR : Polarised calibrator dataset not specified or dataset not available. Polarisation calibration will probably not work!\n",
      "apercal.modules.ccal - INFO : Calculating leakage corrections for flux calibrator\n",
      "apercal.modules.ccal - INFO : Calculating polarisation angle corrections for polarised calibrator\n",
      "apercal.modules.ccal - ERROR : Polarised calibrator dataset not specified or dataset not available.Cross calibration will probably not work!\n",
      "apercal.modules.ccal - INFO : Applying solutions to calibrators\n",
      "apercal.modules.ccal - ERROR : # Polarised calibrator dataset not specified or dataset not available. Application of cross calibration solutions not possible!\n",
      "apercal.modules.ccal - INFO : CROSS CALIBRATION done \n",
      "apercal.modules.ccal - INFO : Starting CROSS CALIBRATION \n",
      "apercal.modules.ccal - INFO : Calculating bandpass corrections for flux calibrator\n"
     ]
    },
    {
     "name": "stdout",
     "output_type": "stream",
     "text": [
      "Successful readonly open of default-locked table /data/adams/apertif/crosscal/181026065/00/raw/WSRTA181026065_B002.MS: 25 columns, 1248 rows\n",
      "Setting fluxcal to WSRTA181026066_B003.MS\n",
      "Calibrating data set /data/adams/apertif/crosscal/181026066/00/raw/WSRTA181026066_B003.MS\n"
     ]
    },
    {
     "name": "stderr",
     "output_type": "stream",
     "text": [
      "apercal.libs.lib - INFO : ********************************************************************************\n",
      "Warning: no write permission for setjy.last, cannot save task\n",
      "         inputs in dir /tmp/drivecasa...\n",
      "********************************************************************************\n",
      "\n",
      "\n"
     ]
    },
    {
     "name": "stdout",
     "output_type": "stream",
     "text": [
      "Successful readonly open of default-locked table /data/adams/apertif/crosscal/181026066/00/raw/WSRTA181026066_B003.MS: 24 columns, 1248 rows\n"
     ]
    },
    {
     "name": "stderr",
     "output_type": "stream",
     "text": [
      "apercal.modules.ccal - INFO : Calculating gain corrections for flux calibrator\n",
      "apercal.modules.ccal - INFO : Calculating global delay corrections for flux calibrator\n",
      "apercal.modules.ccal - INFO : Calculating cross-hand delay corrections for polarised calibrator\n",
      "apercal.modules.ccal - ERROR : Polarised calibrator dataset not specified or dataset not available. Polarisation calibration will probably not work!\n",
      "apercal.modules.ccal - INFO : Calculating leakage corrections for flux calibrator\n",
      "apercal.modules.ccal - INFO : Calculating polarisation angle corrections for polarised calibrator\n",
      "apercal.modules.ccal - ERROR : Polarised calibrator dataset not specified or dataset not available.Cross calibration will probably not work!\n",
      "apercal.modules.ccal - INFO : Applying solutions to calibrators\n",
      "apercal.modules.ccal - ERROR : # Polarised calibrator dataset not specified or dataset not available. Application of cross calibration solutions not possible!\n",
      "apercal.modules.ccal - INFO : CROSS CALIBRATION done \n",
      "apercal.modules.ccal - INFO : Starting CROSS CALIBRATION \n",
      "apercal.modules.ccal - INFO : Calculating bandpass corrections for flux calibrator\n"
     ]
    },
    {
     "name": "stdout",
     "output_type": "stream",
     "text": [
      "Successful readonly open of default-locked table /data/adams/apertif/crosscal/181026066/00/raw/WSRTA181026066_B003.MS: 25 columns, 1248 rows\n",
      "Setting fluxcal to WSRTA181026067_B004.MS\n",
      "Calibrating data set /data/adams/apertif/crosscal/181026067/00/raw/WSRTA181026067_B004.MS\n"
     ]
    },
    {
     "name": "stderr",
     "output_type": "stream",
     "text": [
      "apercal.libs.lib - INFO : ********************************************************************************\n",
      "Warning: no write permission for setjy.last, cannot save task\n",
      "         inputs in dir /tmp/drivecasa...\n",
      "********************************************************************************\n",
      "\n",
      "\n"
     ]
    },
    {
     "name": "stdout",
     "output_type": "stream",
     "text": [
      "Successful readonly open of default-locked table /data/adams/apertif/crosscal/181026067/00/raw/WSRTA181026067_B004.MS: 24 columns, 1248 rows\n"
     ]
    },
    {
     "name": "stderr",
     "output_type": "stream",
     "text": [
      "apercal.modules.ccal - INFO : Calculating gain corrections for flux calibrator\n",
      "apercal.modules.ccal - INFO : Calculating global delay corrections for flux calibrator\n",
      "apercal.modules.ccal - INFO : Calculating cross-hand delay corrections for polarised calibrator\n",
      "apercal.modules.ccal - ERROR : Polarised calibrator dataset not specified or dataset not available. Polarisation calibration will probably not work!\n",
      "apercal.modules.ccal - INFO : Calculating leakage corrections for flux calibrator\n",
      "apercal.modules.ccal - INFO : Calculating polarisation angle corrections for polarised calibrator\n",
      "apercal.modules.ccal - ERROR : Polarised calibrator dataset not specified or dataset not available.Cross calibration will probably not work!\n",
      "apercal.modules.ccal - INFO : Applying solutions to calibrators\n",
      "apercal.modules.ccal - ERROR : # Polarised calibrator dataset not specified or dataset not available. Application of cross calibration solutions not possible!\n",
      "apercal.modules.ccal - INFO : CROSS CALIBRATION done \n"
     ]
    },
    {
     "name": "stdout",
     "output_type": "stream",
     "text": [
      "Successful readonly open of default-locked table /data/adams/apertif/crosscal/181026067/00/raw/WSRTA181026067_B004.MS: 25 columns, 1248 rows\n"
     ]
    }
   ],
   "source": [
    "#calibrate the scans\n",
    "cc.calibrate_scans(scans,obsrecordfile,basedir,cfgfile)"
   ]
  },
  {
   "cell_type": "code",
   "execution_count": null,
   "metadata": {},
   "outputs": [],
   "source": []
  }
 ],
 "metadata": {
  "kernelspec": {
   "display_name": "Python 2",
   "language": "python",
   "name": "python2"
  },
  "language_info": {
   "codemirror_mode": {
    "name": "ipython",
    "version": 2
   },
   "file_extension": ".py",
   "mimetype": "text/x-python",
   "name": "python",
   "nbconvert_exporter": "python",
   "pygments_lexer": "ipython2",
   "version": "2.7.12"
  }
 },
 "nbformat": 4,
 "nbformat_minor": 2
}
