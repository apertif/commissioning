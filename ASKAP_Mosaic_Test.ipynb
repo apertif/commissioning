{
 "cells": [
  {
   "cell_type": "markdown",
   "metadata": {},
   "source": [
    "# Mosaicking ASKAP Data\n",
    "\n",
    "### This notebook serves to test the mosaicking algorithm code I have written for Apertif using Paolo Serra's IC 1459 ASKAP data.  He provided the covariance matrix, the beams shapes, and the individual and final data cubes.    \n",
    "\n",
    "#### June 7, 2019 D.J. Pisano\n"
   ]
  },
  {
   "cell_type": "markdown",
   "metadata": {},
   "source": [
    "For starters, we will use the Apercal environment to work with data.  "
   ]
  },
  {
   "cell_type": "code",
   "execution_count": 1,
   "metadata": {},
   "outputs": [
    {
     "name": "stderr",
     "output_type": "stream",
     "text": [
      "root - INFO : Logging started!\n",
      "root - INFO : To see the log in a bash window use the following command:\n",
      "root - INFO : tail -n +1 -f /home/pisano/testing/logs/mosaic_test.log\n"
     ]
    }
   ],
   "source": [
    "# Import needed packages\n",
    "import os;\n",
    "import shutil\n",
    "import glob\n",
    "import apercal.libs.lib as lib\n",
    "import apercal\n",
    "import numpy as np\n",
    "import matplotlib.pyplot as plt\n",
    "from datetime import datetime,timedelta\n",
    "from astropy.time import Time\n",
    "from astropy.io import fits as fio\n",
    "import subprocess\n",
    "\n",
    "myusername = os.environ['USER']\n",
    "if not ('PYTHONPATH' in os.environ and\n",
    "        '/home/' + myusername + '/apercal' in os.environ['PYTHONPATH']):\n",
    "      print(\"WARNING: your apercal directory should be in the $PYTHONPATH\")\n",
    "\n",
    "%config IPCompleter.greedy=True\n",
    "%matplotlib notebook\n",
    "lib.setup_logger('info', logfile='/home/{}/testing/logs/mosaic_test.log'.format(myusername))\n",
    "\n",
    "cfgfile='/home/{}/testing/cfg/mosaic.cfg'.format(myusername)\n",
    "\n",
    "basedir='/data4/pisano/ASKAP/'\n",
    "\n",
    "\n",
    "%matplotlib inline\n",
    "\n"
   ]
  },
  {
   "cell_type": "markdown",
   "metadata": {},
   "source": [
    "## We assume that we have a beam model/models and a correlation matrix already generated and saved.  \n",
    "\n",
    "## We can now start importing data."
   ]
  },
  {
   "cell_type": "code",
   "execution_count": 2,
   "metadata": {},
   "outputs": [],
   "source": [
    "# Import images/beams into Miriad\n",
    "\n",
    "\n",
    "def import_image(beam_num):\n",
    "    # This function will import a FITS image into Miriad placing it in the mosaicdir\n",
    "    fits = lib.miriad('fits')\n",
    "    fits.op = 'xyin'\n",
    "    fits.in_ = basedir+'nos_m{}_f3_R.fits'.format(str(beam_num))\n",
    "    fits.out = basedir+'image_{}.map'.format(str(beam_num))\n",
    "    fits.inp()\n",
    "    fits.go()\n",
    "    \n",
    "def import_beam(beam_num):\n",
    "    # This function will import the FITS image of a beam into Miriad format, placing it in the mosaicdir\n",
    "    fits = lib.miriad('fits')\n",
    "    fits.op = 'xyin'\n",
    "    fits.in_ = basedir+'beam{}.fits'.format(str(beam_num))\n",
    "    fits.out = basedir+'beam_{}o.map'.format(str(beam_num))\n",
    "    fits.inp()\n",
    "    fits.go()\n",
    "        \n",
    "def valid_beam(bm_num):\n",
    "    # This function will determine if there is a valid image for a given beam\n",
    "    if os.path.exists(basedir+'nos_m{}_f3_R.fits'.format(str(bm_num))):\n",
    "        return True\n",
    "    else:\n",
    "        return False\n",
    "\n"
   ]
  },
  {
   "cell_type": "code",
   "execution_count": 3,
   "metadata": {
    "scrolled": true
   },
   "outputs": [
    {
     "name": "stderr",
     "output_type": "stream",
     "text": [
      "miriad fits - INFO : task=fits, out=/data4/pisano/ASKAP/image_0.map, in_=/data4/pisano/ASKAP/nos_m0_f3_R.fits, op=xyin\n"
     ]
    },
    {
     "name": "stdout",
     "output_type": "stream",
     "text": [
      "[0, 1, 2, 3, 4, 5, 6, 7, 8]\n"
     ]
    },
    {
     "name": "stderr",
     "output_type": "stream",
     "text": [
      "miriad fits - INFO : task=fits, out=/data4/pisano/ASKAP/beam_0o.map, in_=/data4/pisano/ASKAP/beam0.fits, op=xyin\n",
      "miriad fits - INFO : task=fits, out=/data4/pisano/ASKAP/image_1.map, in_=/data4/pisano/ASKAP/nos_m1_f3_R.fits, op=xyin\n",
      "miriad fits - INFO : task=fits, out=/data4/pisano/ASKAP/beam_1o.map, in_=/data4/pisano/ASKAP/beam1.fits, op=xyin\n",
      "miriad fits - INFO : task=fits, out=/data4/pisano/ASKAP/image_2.map, in_=/data4/pisano/ASKAP/nos_m2_f3_R.fits, op=xyin\n",
      "miriad fits - INFO : task=fits, out=/data4/pisano/ASKAP/beam_2o.map, in_=/data4/pisano/ASKAP/beam2.fits, op=xyin\n",
      "miriad fits - INFO : task=fits, out=/data4/pisano/ASKAP/image_3.map, in_=/data4/pisano/ASKAP/nos_m3_f3_R.fits, op=xyin\n",
      "miriad fits - INFO : task=fits, out=/data4/pisano/ASKAP/beam_3o.map, in_=/data4/pisano/ASKAP/beam3.fits, op=xyin\n",
      "miriad fits - INFO : task=fits, out=/data4/pisano/ASKAP/image_4.map, in_=/data4/pisano/ASKAP/nos_m4_f3_R.fits, op=xyin\n",
      "miriad fits - INFO : task=fits, out=/data4/pisano/ASKAP/beam_4o.map, in_=/data4/pisano/ASKAP/beam4.fits, op=xyin\n",
      "miriad fits - INFO : task=fits, out=/data4/pisano/ASKAP/image_5.map, in_=/data4/pisano/ASKAP/nos_m5_f3_R.fits, op=xyin\n",
      "miriad fits - INFO : task=fits, out=/data4/pisano/ASKAP/beam_5o.map, in_=/data4/pisano/ASKAP/beam5.fits, op=xyin\n",
      "miriad fits - INFO : task=fits, out=/data4/pisano/ASKAP/image_6.map, in_=/data4/pisano/ASKAP/nos_m6_f3_R.fits, op=xyin\n",
      "miriad fits - INFO : task=fits, out=/data4/pisano/ASKAP/beam_6o.map, in_=/data4/pisano/ASKAP/beam6.fits, op=xyin\n",
      "miriad fits - INFO : task=fits, out=/data4/pisano/ASKAP/image_7.map, in_=/data4/pisano/ASKAP/nos_m7_f3_R.fits, op=xyin\n",
      "miriad fits - INFO : task=fits, out=/data4/pisano/ASKAP/beam_7o.map, in_=/data4/pisano/ASKAP/beam7.fits, op=xyin\n",
      "miriad fits - INFO : task=fits, out=/data4/pisano/ASKAP/image_8.map, in_=/data4/pisano/ASKAP/nos_m8_f3_R.fits, op=xyin\n",
      "miriad fits - INFO : task=fits, out=/data4/pisano/ASKAP/beam_8o.map, in_=/data4/pisano/ASKAP/beam8.fits, op=xyin\n"
     ]
    }
   ],
   "source": [
    "# Import images from good beams \n",
    "beams=[]\n",
    "for bm_num in range(9):\n",
    "    if valid_beam(bm_num):\n",
    "        beams.append(bm_num)\n",
    "        \n",
    "    \n",
    "print(beams)\n",
    "\n",
    "for beam in beams:\n",
    "    import_image(beam)\n",
    "    import_beam(beam)\n"
   ]
  },
  {
   "cell_type": "code",
   "execution_count": 7,
   "metadata": {},
   "outputs": [
    {
     "name": "stderr",
     "output_type": "stream",
     "text": [
      "miriad maths - INFO : task=maths, mask='</data4/pisano/ASKAP/beam_0o.map>.gt.0.25', exp='</data4/pisano/ASKAP/beam_0o.map>', out=/data4/pisano/ASKAP/beam_0b.map\n",
      "miriad maths - INFO : task=maths, mask='</data4/pisano/ASKAP/beam_1o.map>.gt.0.25', exp='</data4/pisano/ASKAP/beam_1o.map>', out=/data4/pisano/ASKAP/beam_1b.map\n",
      "miriad maths - INFO : task=maths, mask='</data4/pisano/ASKAP/beam_2o.map>.gt.0.25', exp='</data4/pisano/ASKAP/beam_2o.map>', out=/data4/pisano/ASKAP/beam_2b.map\n",
      "miriad maths - INFO : task=maths, mask='</data4/pisano/ASKAP/beam_3o.map>.gt.0.25', exp='</data4/pisano/ASKAP/beam_3o.map>', out=/data4/pisano/ASKAP/beam_3b.map\n",
      "miriad maths - INFO : task=maths, mask='</data4/pisano/ASKAP/beam_4o.map>.gt.0.25', exp='</data4/pisano/ASKAP/beam_4o.map>', out=/data4/pisano/ASKAP/beam_4b.map\n",
      "miriad maths - INFO : task=maths, mask='</data4/pisano/ASKAP/beam_5o.map>.gt.0.25', exp='</data4/pisano/ASKAP/beam_5o.map>', out=/data4/pisano/ASKAP/beam_5b.map\n",
      "miriad maths - INFO : task=maths, mask='</data4/pisano/ASKAP/beam_6o.map>.gt.0.25', exp='</data4/pisano/ASKAP/beam_6o.map>', out=/data4/pisano/ASKAP/beam_6b.map\n",
      "miriad maths - INFO : task=maths, mask='</data4/pisano/ASKAP/beam_7o.map>.gt.0.25', exp='</data4/pisano/ASKAP/beam_7o.map>', out=/data4/pisano/ASKAP/beam_7b.map\n",
      "miriad maths - INFO : task=maths, mask='</data4/pisano/ASKAP/beam_8o.map>.gt.0.25', exp='</data4/pisano/ASKAP/beam_8o.map>', out=/data4/pisano/ASKAP/beam_8b.map\n"
     ]
    }
   ],
   "source": [
    "# Cut beams below 25% of peak\n",
    "\n",
    "maths = lib.miriad('maths')\n",
    "for beam in beams:\n",
    "    maths.exp=\"'<\"+basedir+\"beam_{}o.map>'\".format(str(beam))\n",
    "    maths.mask=\"'<\"+basedir+\"beam_{}o.map>.gt.0.25'\".format(str(beam))\n",
    "    maths.out=basedir+\"beam_{}b.map\".format(str(beam))\n",
    "    maths.inp()\n",
    "    maths.go()\n",
    "    \n",
    "imblr = lib.miriad('imblr')\n",
    "for beam in beams:\n",
    "    imblr.in_=basedir+'beam_{}b.map'.format(str(beam))\n",
    "    imblr.out=basedir+'beam_{}.map'.format(str(beam))\n",
    "    imblr.go()\n",
    "\n"
   ]
  },
  {
   "cell_type": "code",
   "execution_count": 8,
   "metadata": {
    "scrolled": false
   },
   "outputs": [
    {
     "name": "stdout",
     "output_type": "stream",
     "text": [
      "[[ 1.41610527e+04 -1.38920404e+03 -1.80324965e+03 -2.30224814e+03\n",
      "  -1.41717670e+03 -2.22651525e+03 -2.01086911e+03  5.92553569e+02\n",
      "   5.58226698e+02]\n",
      " [-1.38920404e+03  1.30057886e+04 -2.32714340e+03  3.99722675e+02\n",
      "  -6.78011245e+01  4.48894881e+02 -2.20192329e+03  2.56280058e+02\n",
      "  -7.07989879e+00]\n",
      " [-1.80324965e+03 -2.32714340e+03  1.40892295e+04 -1.58012499e+03\n",
      "   3.90634851e+02 -1.23999059e+02  7.96371183e+02 -2.20911968e+03\n",
      "  -2.69356314e+02]\n",
      " [-2.30224814e+03  3.99722675e+02 -1.58012499e+03  1.41952390e+04\n",
      "  -2.64115223e+03  9.72066371e+02 -7.46447386e+01 -1.46014628e+03\n",
      "  -2.97269962e+02]\n",
      " [-1.41717670e+03 -6.78011245e+01  3.90634851e+02 -2.64115223e+03\n",
      "   1.38187928e+04 -2.84389418e+03  4.98317590e+02 -2.29627349e+01\n",
      "  -4.24010627e+01]\n",
      " [-2.22651525e+03  4.48894881e+02 -1.23999059e+02  9.72066371e+02\n",
      "  -2.84389418e+03  1.50285071e+04 -1.89912660e+03 -1.93536336e+02\n",
      "  -1.58589336e+03]\n",
      " [-2.01086911e+03 -2.20192329e+03  7.96371183e+02 -7.46447386e+01\n",
      "   4.98317590e+02 -1.89912660e+03  1.45563508e+04 -2.91288928e+02\n",
      "  -1.76942053e+03]\n",
      " [ 5.92553569e+02  2.56280058e+02 -2.20911968e+03 -1.46014628e+03\n",
      "  -2.29627349e+01 -1.93536336e+02 -2.91288928e+02  1.34021155e+04\n",
      "   5.60290429e+01]\n",
      " [ 5.58226698e+02 -7.07989879e+00 -2.69356314e+02 -2.97269962e+02\n",
      "  -4.24010627e+01 -1.58589336e+03 -1.76942053e+03  5.60290429e+01\n",
      "   1.40517970e+04]]\n",
      "-2843.8941833254753\n",
      "15028.507149869785\n",
      "[[ 0.00000000e+00 -1.69406589e-21 -6.77626358e-21  0.00000000e+00\n",
      "   1.69406589e-21  0.00000000e+00 -3.38813179e-21  5.29395592e-22\n",
      "  -1.16467030e-21]\n",
      " [ 0.00000000e+00  0.00000000e+00 -6.77626358e-21 -8.47032947e-22\n",
      "   0.00000000e+00 -4.23516474e-22 -1.69406589e-21  4.23516474e-22\n",
      "  -2.11758237e-22]\n",
      " [ 3.38813179e-21  0.00000000e+00 -2.71050543e-20 -1.69406589e-21\n",
      "   8.47032947e-22  0.00000000e+00  2.11758237e-22  1.69406589e-21\n",
      "  -8.47032947e-22]\n",
      " [-3.38813179e-21 -8.47032947e-22 -6.77626358e-21 -1.35525272e-20\n",
      "   0.00000000e+00 -4.23516474e-22 -1.27054942e-21  1.69406589e-21\n",
      "  -1.05879118e-21]\n",
      " [ 0.00000000e+00 -6.35274710e-22 -8.47032947e-22 -3.38813179e-21\n",
      "  -1.35525272e-20  3.38813179e-21 -8.47032947e-22 -4.23516474e-22\n",
      "  -4.23516474e-22]\n",
      " [-6.77626358e-21 -1.69406589e-21 -1.69406589e-21  2.11758237e-22\n",
      "  -6.77626358e-21 -1.35525272e-20 -1.01643954e-20  0.00000000e+00\n",
      "  -5.08219768e-21]\n",
      " [ 0.00000000e+00  5.08219768e-21  6.35274710e-22  0.00000000e+00\n",
      "   0.00000000e+00 -3.38813179e-21 -1.35525272e-20  6.35274710e-22\n",
      "  -1.69406589e-21]\n",
      " [ 6.35274710e-22  1.05879118e-21  6.77626358e-21 -1.69406589e-21\n",
      "   0.00000000e+00 -2.11758237e-22 -2.11758237e-22  1.35525272e-20\n",
      "  -2.11758237e-22]\n",
      " [-9.52912066e-22 -2.11758237e-22  0.00000000e+00 -4.23516474e-22\n",
      "  -1.27054942e-21 -5.08219768e-21 -3.38813179e-21 -1.58818678e-22\n",
      "  -1.35525272e-20]]\n"
     ]
    }
   ],
   "source": [
    "# Read in noise covariance matrix from 'covariance.fits' file.   \n",
    "cov_file=fio.open(basedir+'covariance.fits')\n",
    "\n",
    "#cov_file.info()\n",
    "\n",
    "noise_cov=cov_file[0].data\n",
    "cov_file.close()\n",
    "\n",
    "\n",
    "# Only the inverse of this matrix is ever used:\n",
    "inv_cov=np.linalg.inv(noise_cov)\n",
    "\n",
    "print(inv_cov)\n",
    "print(np.min(inv_cov))\n",
    "print(np.max(inv_cov))\n",
    "\n",
    "print(np.linalg.inv(inv_cov)-noise_cov)"
   ]
  },
  {
   "cell_type": "code",
   "execution_count": 9,
   "metadata": {},
   "outputs": [
    {
     "name": "stdout",
     "output_type": "stream",
     "text": [
      "('The final, convolved, synthesized beam has bmaj, bmin, bpa of: ', [78.5677106158108, 61.03863433118356, -76.54572])\n"
     ]
    }
   ],
   "source": [
    "# Get info in order to convolve images to same synthesized beam size\n",
    "\n",
    "# Extract beam parameters from headers\n",
    "bmaj=[]\n",
    "bmin=[]\n",
    "bpa=[]\n",
    "for beam in beams:\n",
    "    gethd = lib.miriad('gethd')\n",
    "    gethd.in_ = basedir+'image_{}.map/bmaj'.format(str(beam))\n",
    "    bmaj.append(gethd.go())\n",
    "    gethd.in_ = basedir+'image_{}.map/bmin'.format(str(beam))\n",
    "    bmin.append(gethd.go())\n",
    "    gethd.in_ = basedir+'image_{}.map/bpa'.format(str(beam))\n",
    "    bpa.append(gethd.go())\n",
    "    \n",
    "# Calculate maximum bmaj and bmin and median bpa for final convolved beam shape\n",
    "bmajor = [float(x[0]) for x in bmaj]\n",
    "bmajor = 3600.*np.degrees(bmajor)\n",
    "\n",
    "bminor = [float(x[0]) for x in bmin]\n",
    "bminor = 3600.*np.degrees(bminor)\n",
    "\n",
    "bangle = [float(x[0]) for x in bpa]\n",
    "#bangle = np.degrees(bangle)\n",
    "\n",
    "c_beam = [1.1*np.nanmax(bmajor),1.1*np.nanmax(bminor),np.nanmedian(bangle)]\n",
    "print('The final, convolved, synthesized beam has bmaj, bmin, bpa of: ',c_beam)"
   ]
  },
  {
   "cell_type": "code",
   "execution_count": 10,
   "metadata": {
    "scrolled": true
   },
   "outputs": [
    {
     "name": "stderr",
     "output_type": "stream",
     "text": [
      "miriad convol - INFO : map=/data4/pisano/ASKAP/image_0.map, task=convol, pa=-76.54572, fwhm=78.5677106158108,61.03863433118356, options=final, out=/data4/pisano/ASKAP/image_0_convol.map\n",
      "miriad convol - INFO : map=/data4/pisano/ASKAP/image_1.map, task=convol, pa=-76.54572, fwhm=78.5677106158108,61.03863433118356, options=final, out=/data4/pisano/ASKAP/image_1_convol.map\n",
      "miriad convol - INFO : map=/data4/pisano/ASKAP/image_2.map, task=convol, pa=-76.54572, fwhm=78.5677106158108,61.03863433118356, options=final, out=/data4/pisano/ASKAP/image_2_convol.map\n",
      "miriad convol - INFO : map=/data4/pisano/ASKAP/image_3.map, task=convol, pa=-76.54572, fwhm=78.5677106158108,61.03863433118356, options=final, out=/data4/pisano/ASKAP/image_3_convol.map\n",
      "miriad convol - INFO : map=/data4/pisano/ASKAP/image_4.map, task=convol, pa=-76.54572, fwhm=78.5677106158108,61.03863433118356, options=final, out=/data4/pisano/ASKAP/image_4_convol.map\n",
      "miriad convol - INFO : map=/data4/pisano/ASKAP/image_5.map, task=convol, pa=-76.54572, fwhm=78.5677106158108,61.03863433118356, options=final, out=/data4/pisano/ASKAP/image_5_convol.map\n",
      "miriad convol - INFO : map=/data4/pisano/ASKAP/image_6.map, task=convol, pa=-76.54572, fwhm=78.5677106158108,61.03863433118356, options=final, out=/data4/pisano/ASKAP/image_6_convol.map\n",
      "miriad convol - INFO : map=/data4/pisano/ASKAP/image_7.map, task=convol, pa=-76.54572, fwhm=78.5677106158108,61.03863433118356, options=final, out=/data4/pisano/ASKAP/image_7_convol.map\n",
      "miriad convol - INFO : map=/data4/pisano/ASKAP/image_8.map, task=convol, pa=-76.54572, fwhm=78.5677106158108,61.03863433118356, options=final, out=/data4/pisano/ASKAP/image_8_convol.map\n"
     ]
    }
   ],
   "source": [
    "# Convolve all images to same synthesized beam (c_beam)\n",
    "\n",
    "for beam in beams:\n",
    "    convol=lib.miriad('convol')\n",
    "    convol.map = basedir+'image_{}.map'.format(str(beam))\n",
    "    convol.out = basedir+'image_{}_convol.map'.format(str(beam))\n",
    "    convol.fwhm = '{0},{1}'.format(str(c_beam[0]),str(c_beam[1]))\n",
    "    convol.pa = c_beam[2]\n",
    "    convol.options = 'final'\n",
    "    convol.inp()\n",
    "    convol.go()"
   ]
  },
  {
   "cell_type": "code",
   "execution_count": 11,
   "metadata": {
    "scrolled": true
   },
   "outputs": [
    {
     "name": "stderr",
     "output_type": "stream",
     "text": [
      "miriad maths - INFO : task=maths, options=unmask, exp='</data4/pisano/ASKAP/beam_0.map>*(14161.0526932)', out=/data4/pisano/ASKAP/tmp_0.map\n",
      "miriad maths - INFO : task=maths, options=unmask, exp='</data4/pisano/ASKAP/beam_1.map>*(-1389.2040353)', out=/data4/pisano/ASKAP/tmp_1.map\n",
      "miriad maths - INFO : task=maths, options=unmask, exp='</data4/pisano/ASKAP/beam_2.map>*(-1803.24964619)', out=/data4/pisano/ASKAP/tmp_2.map\n",
      "miriad maths - INFO : task=maths, options=unmask, exp='</data4/pisano/ASKAP/beam_3.map>*(-2302.24814337)', out=/data4/pisano/ASKAP/tmp_3.map\n",
      "miriad maths - INFO : task=maths, options=unmask, exp='</data4/pisano/ASKAP/beam_4.map>*(-1417.17670022)', out=/data4/pisano/ASKAP/tmp_4.map\n",
      "miriad maths - INFO : task=maths, options=unmask, exp='</data4/pisano/ASKAP/beam_5.map>*(-2226.51524708)', out=/data4/pisano/ASKAP/tmp_5.map\n",
      "miriad maths - INFO : task=maths, options=unmask, exp='</data4/pisano/ASKAP/beam_6.map>*(-2010.86911195)', out=/data4/pisano/ASKAP/tmp_6.map\n",
      "miriad maths - INFO : task=maths, options=unmask, exp='</data4/pisano/ASKAP/beam_7.map>*(592.553568929)', out=/data4/pisano/ASKAP/tmp_7.map\n",
      "miriad maths - INFO : task=maths, options=unmask, exp='</data4/pisano/ASKAP/beam_8.map>*(558.226698127)', out=/data4/pisano/ASKAP/tmp_8.map\n",
      "miriad maths - INFO : task=maths, options=unmask, exp='</data4/pisano/ASKAP/tmp_0.map>+</data4/pisano/ASKAP/tmp_1.map>', out=/data4/pisano/ASKAP/sum_1.map\n",
      "miriad maths - INFO : task=maths, options=unmask, exp='</data4/pisano/ASKAP/tmp_2.map>+</data4/pisano/ASKAP/sum_1.map>', out=/data4/pisano/ASKAP/sum_2.map\n",
      "miriad maths - INFO : task=maths, options=unmask, exp='</data4/pisano/ASKAP/tmp_3.map>+</data4/pisano/ASKAP/sum_2.map>', out=/data4/pisano/ASKAP/sum_3.map\n",
      "miriad maths - INFO : task=maths, options=unmask, exp='</data4/pisano/ASKAP/tmp_4.map>+</data4/pisano/ASKAP/sum_3.map>', out=/data4/pisano/ASKAP/sum_4.map\n",
      "miriad maths - INFO : task=maths, options=unmask, exp='</data4/pisano/ASKAP/tmp_5.map>+</data4/pisano/ASKAP/sum_4.map>', out=/data4/pisano/ASKAP/sum_5.map\n",
      "miriad maths - INFO : task=maths, options=unmask, exp='</data4/pisano/ASKAP/tmp_6.map>+</data4/pisano/ASKAP/sum_5.map>', out=/data4/pisano/ASKAP/sum_6.map\n",
      "miriad maths - INFO : task=maths, options=unmask, exp='</data4/pisano/ASKAP/tmp_7.map>+</data4/pisano/ASKAP/sum_6.map>', out=/data4/pisano/ASKAP/sum_7.map\n",
      "miriad maths - INFO : task=maths, options=unmask, exp='</data4/pisano/ASKAP/tmp_8.map>+</data4/pisano/ASKAP/sum_7.map>', out=/data4/pisano/ASKAP/sum_8.map\n",
      "miriad maths - INFO : task=maths, options=unmask, exp='</data4/pisano/ASKAP/beam_0.map>*(-1389.2040353)', out=/data4/pisano/ASKAP/tmp_0.map\n",
      "miriad maths - INFO : task=maths, options=unmask, exp='</data4/pisano/ASKAP/beam_1.map>*(13005.7885998)', out=/data4/pisano/ASKAP/tmp_1.map\n",
      "miriad maths - INFO : task=maths, options=unmask, exp='</data4/pisano/ASKAP/beam_2.map>*(-2327.14339653)', out=/data4/pisano/ASKAP/tmp_2.map\n",
      "miriad maths - INFO : task=maths, options=unmask, exp='</data4/pisano/ASKAP/beam_3.map>*(399.722674766)', out=/data4/pisano/ASKAP/tmp_3.map\n",
      "miriad maths - INFO : task=maths, options=unmask, exp='</data4/pisano/ASKAP/beam_4.map>*(-67.8011245316)', out=/data4/pisano/ASKAP/tmp_4.map\n",
      "miriad maths - INFO : task=maths, options=unmask, exp='</data4/pisano/ASKAP/beam_5.map>*(448.894880519)', out=/data4/pisano/ASKAP/tmp_5.map\n",
      "miriad maths - INFO : task=maths, options=unmask, exp='</data4/pisano/ASKAP/beam_6.map>*(-2201.92329002)', out=/data4/pisano/ASKAP/tmp_6.map\n",
      "miriad maths - INFO : task=maths, options=unmask, exp='</data4/pisano/ASKAP/beam_7.map>*(256.280057702)', out=/data4/pisano/ASKAP/tmp_7.map\n",
      "miriad maths - INFO : task=maths, options=unmask, exp='</data4/pisano/ASKAP/beam_8.map>*(-7.07989878736)', out=/data4/pisano/ASKAP/tmp_8.map\n",
      "miriad maths - INFO : task=maths, options=unmask, exp='</data4/pisano/ASKAP/tmp_0.map>+</data4/pisano/ASKAP/tmp_1.map>', out=/data4/pisano/ASKAP/sum_1.map\n",
      "miriad maths - INFO : task=maths, options=unmask, exp='</data4/pisano/ASKAP/tmp_2.map>+</data4/pisano/ASKAP/sum_1.map>', out=/data4/pisano/ASKAP/sum_2.map\n",
      "miriad maths - INFO : task=maths, options=unmask, exp='</data4/pisano/ASKAP/tmp_3.map>+</data4/pisano/ASKAP/sum_2.map>', out=/data4/pisano/ASKAP/sum_3.map\n",
      "miriad maths - INFO : task=maths, options=unmask, exp='</data4/pisano/ASKAP/tmp_4.map>+</data4/pisano/ASKAP/sum_3.map>', out=/data4/pisano/ASKAP/sum_4.map\n",
      "miriad maths - INFO : task=maths, options=unmask, exp='</data4/pisano/ASKAP/tmp_5.map>+</data4/pisano/ASKAP/sum_4.map>', out=/data4/pisano/ASKAP/sum_5.map\n",
      "miriad maths - INFO : task=maths, options=unmask, exp='</data4/pisano/ASKAP/tmp_6.map>+</data4/pisano/ASKAP/sum_5.map>', out=/data4/pisano/ASKAP/sum_6.map\n",
      "miriad maths - INFO : task=maths, options=unmask, exp='</data4/pisano/ASKAP/tmp_7.map>+</data4/pisano/ASKAP/sum_6.map>', out=/data4/pisano/ASKAP/sum_7.map\n",
      "miriad maths - INFO : task=maths, options=unmask, exp='</data4/pisano/ASKAP/tmp_8.map>+</data4/pisano/ASKAP/sum_7.map>', out=/data4/pisano/ASKAP/sum_8.map\n",
      "miriad maths - INFO : task=maths, options=unmask, exp='</data4/pisano/ASKAP/beam_0.map>*(-1803.24964619)', out=/data4/pisano/ASKAP/tmp_0.map\n",
      "miriad maths - INFO : task=maths, options=unmask, exp='</data4/pisano/ASKAP/beam_1.map>*(-2327.14339653)', out=/data4/pisano/ASKAP/tmp_1.map\n",
      "miriad maths - INFO : task=maths, options=unmask, exp='</data4/pisano/ASKAP/beam_2.map>*(14089.2295458)', out=/data4/pisano/ASKAP/tmp_2.map\n",
      "miriad maths - INFO : task=maths, options=unmask, exp='</data4/pisano/ASKAP/beam_3.map>*(-1580.124992)', out=/data4/pisano/ASKAP/tmp_3.map\n",
      "miriad maths - INFO : task=maths, options=unmask, exp='</data4/pisano/ASKAP/beam_4.map>*(390.634851407)', out=/data4/pisano/ASKAP/tmp_4.map\n",
      "miriad maths - INFO : task=maths, options=unmask, exp='</data4/pisano/ASKAP/beam_5.map>*(-123.999058921)', out=/data4/pisano/ASKAP/tmp_5.map\n",
      "miriad maths - INFO : task=maths, options=unmask, exp='</data4/pisano/ASKAP/beam_6.map>*(796.371183286)', out=/data4/pisano/ASKAP/tmp_6.map\n",
      "miriad maths - INFO : task=maths, options=unmask, exp='</data4/pisano/ASKAP/beam_7.map>*(-2209.11968214)', out=/data4/pisano/ASKAP/tmp_7.map\n",
      "miriad maths - INFO : task=maths, options=unmask, exp='</data4/pisano/ASKAP/beam_8.map>*(-269.35631396)', out=/data4/pisano/ASKAP/tmp_8.map\n",
      "miriad maths - INFO : task=maths, options=unmask, exp='</data4/pisano/ASKAP/tmp_0.map>+</data4/pisano/ASKAP/tmp_1.map>', out=/data4/pisano/ASKAP/sum_1.map\n",
      "miriad maths - INFO : task=maths, options=unmask, exp='</data4/pisano/ASKAP/tmp_2.map>+</data4/pisano/ASKAP/sum_1.map>', out=/data4/pisano/ASKAP/sum_2.map\n",
      "miriad maths - INFO : task=maths, options=unmask, exp='</data4/pisano/ASKAP/tmp_3.map>+</data4/pisano/ASKAP/sum_2.map>', out=/data4/pisano/ASKAP/sum_3.map\n",
      "miriad maths - INFO : task=maths, options=unmask, exp='</data4/pisano/ASKAP/tmp_4.map>+</data4/pisano/ASKAP/sum_3.map>', out=/data4/pisano/ASKAP/sum_4.map\n",
      "miriad maths - INFO : task=maths, options=unmask, exp='</data4/pisano/ASKAP/tmp_5.map>+</data4/pisano/ASKAP/sum_4.map>', out=/data4/pisano/ASKAP/sum_5.map\n",
      "miriad maths - INFO : task=maths, options=unmask, exp='</data4/pisano/ASKAP/tmp_6.map>+</data4/pisano/ASKAP/sum_5.map>', out=/data4/pisano/ASKAP/sum_6.map\n",
      "miriad maths - INFO : task=maths, options=unmask, exp='</data4/pisano/ASKAP/tmp_7.map>+</data4/pisano/ASKAP/sum_6.map>', out=/data4/pisano/ASKAP/sum_7.map\n",
      "miriad maths - INFO : task=maths, options=unmask, exp='</data4/pisano/ASKAP/tmp_8.map>+</data4/pisano/ASKAP/sum_7.map>', out=/data4/pisano/ASKAP/sum_8.map\n",
      "miriad maths - INFO : task=maths, options=unmask, exp='</data4/pisano/ASKAP/beam_0.map>*(-2302.24814337)', out=/data4/pisano/ASKAP/tmp_0.map\n",
      "miriad maths - INFO : task=maths, options=unmask, exp='</data4/pisano/ASKAP/beam_1.map>*(399.722674766)', out=/data4/pisano/ASKAP/tmp_1.map\n",
      "miriad maths - INFO : task=maths, options=unmask, exp='</data4/pisano/ASKAP/beam_2.map>*(-1580.124992)', out=/data4/pisano/ASKAP/tmp_2.map\n",
      "miriad maths - INFO : task=maths, options=unmask, exp='</data4/pisano/ASKAP/beam_3.map>*(14195.2389597)', out=/data4/pisano/ASKAP/tmp_3.map\n",
      "miriad maths - INFO : task=maths, options=unmask, exp='</data4/pisano/ASKAP/beam_4.map>*(-2641.15222972)', out=/data4/pisano/ASKAP/tmp_4.map\n"
     ]
    },
    {
     "name": "stderr",
     "output_type": "stream",
     "text": [
      "miriad maths - INFO : task=maths, options=unmask, exp='</data4/pisano/ASKAP/beam_5.map>*(972.066370658)', out=/data4/pisano/ASKAP/tmp_5.map\n",
      "miriad maths - INFO : task=maths, options=unmask, exp='</data4/pisano/ASKAP/beam_6.map>*(-74.6447385823)', out=/data4/pisano/ASKAP/tmp_6.map\n",
      "miriad maths - INFO : task=maths, options=unmask, exp='</data4/pisano/ASKAP/beam_7.map>*(-1460.14628192)', out=/data4/pisano/ASKAP/tmp_7.map\n",
      "miriad maths - INFO : task=maths, options=unmask, exp='</data4/pisano/ASKAP/beam_8.map>*(-297.26996248)', out=/data4/pisano/ASKAP/tmp_8.map\n",
      "miriad maths - INFO : task=maths, options=unmask, exp='</data4/pisano/ASKAP/tmp_0.map>+</data4/pisano/ASKAP/tmp_1.map>', out=/data4/pisano/ASKAP/sum_1.map\n",
      "miriad maths - INFO : task=maths, options=unmask, exp='</data4/pisano/ASKAP/tmp_2.map>+</data4/pisano/ASKAP/sum_1.map>', out=/data4/pisano/ASKAP/sum_2.map\n",
      "miriad maths - INFO : task=maths, options=unmask, exp='</data4/pisano/ASKAP/tmp_3.map>+</data4/pisano/ASKAP/sum_2.map>', out=/data4/pisano/ASKAP/sum_3.map\n",
      "miriad maths - INFO : task=maths, options=unmask, exp='</data4/pisano/ASKAP/tmp_4.map>+</data4/pisano/ASKAP/sum_3.map>', out=/data4/pisano/ASKAP/sum_4.map\n",
      "miriad maths - INFO : task=maths, options=unmask, exp='</data4/pisano/ASKAP/tmp_5.map>+</data4/pisano/ASKAP/sum_4.map>', out=/data4/pisano/ASKAP/sum_5.map\n",
      "miriad maths - INFO : task=maths, options=unmask, exp='</data4/pisano/ASKAP/tmp_6.map>+</data4/pisano/ASKAP/sum_5.map>', out=/data4/pisano/ASKAP/sum_6.map\n",
      "miriad maths - INFO : task=maths, options=unmask, exp='</data4/pisano/ASKAP/tmp_7.map>+</data4/pisano/ASKAP/sum_6.map>', out=/data4/pisano/ASKAP/sum_7.map\n",
      "miriad maths - INFO : task=maths, options=unmask, exp='</data4/pisano/ASKAP/tmp_8.map>+</data4/pisano/ASKAP/sum_7.map>', out=/data4/pisano/ASKAP/sum_8.map\n",
      "miriad maths - INFO : task=maths, options=unmask, exp='</data4/pisano/ASKAP/beam_0.map>*(-1417.17670022)', out=/data4/pisano/ASKAP/tmp_0.map\n",
      "miriad maths - INFO : task=maths, options=unmask, exp='</data4/pisano/ASKAP/beam_1.map>*(-67.8011245316)', out=/data4/pisano/ASKAP/tmp_1.map\n",
      "miriad maths - INFO : task=maths, options=unmask, exp='</data4/pisano/ASKAP/beam_2.map>*(390.634851407)', out=/data4/pisano/ASKAP/tmp_2.map\n",
      "miriad maths - INFO : task=maths, options=unmask, exp='</data4/pisano/ASKAP/beam_3.map>*(-2641.15222972)', out=/data4/pisano/ASKAP/tmp_3.map\n",
      "miriad maths - INFO : task=maths, options=unmask, exp='</data4/pisano/ASKAP/beam_4.map>*(13818.792783)', out=/data4/pisano/ASKAP/tmp_4.map\n",
      "miriad maths - INFO : task=maths, options=unmask, exp='</data4/pisano/ASKAP/beam_5.map>*(-2843.89418333)', out=/data4/pisano/ASKAP/tmp_5.map\n",
      "miriad maths - INFO : task=maths, options=unmask, exp='</data4/pisano/ASKAP/beam_6.map>*(498.317590126)', out=/data4/pisano/ASKAP/tmp_6.map\n",
      "miriad maths - INFO : task=maths, options=unmask, exp='</data4/pisano/ASKAP/beam_7.map>*(-22.9627349298)', out=/data4/pisano/ASKAP/tmp_7.map\n",
      "miriad maths - INFO : task=maths, options=unmask, exp='</data4/pisano/ASKAP/beam_8.map>*(-42.4010627425)', out=/data4/pisano/ASKAP/tmp_8.map\n",
      "miriad maths - INFO : task=maths, options=unmask, exp='</data4/pisano/ASKAP/tmp_0.map>+</data4/pisano/ASKAP/tmp_1.map>', out=/data4/pisano/ASKAP/sum_1.map\n",
      "miriad maths - INFO : task=maths, options=unmask, exp='</data4/pisano/ASKAP/tmp_2.map>+</data4/pisano/ASKAP/sum_1.map>', out=/data4/pisano/ASKAP/sum_2.map\n",
      "miriad maths - INFO : task=maths, options=unmask, exp='</data4/pisano/ASKAP/tmp_3.map>+</data4/pisano/ASKAP/sum_2.map>', out=/data4/pisano/ASKAP/sum_3.map\n",
      "miriad maths - INFO : task=maths, options=unmask, exp='</data4/pisano/ASKAP/tmp_4.map>+</data4/pisano/ASKAP/sum_3.map>', out=/data4/pisano/ASKAP/sum_4.map\n",
      "miriad maths - INFO : task=maths, options=unmask, exp='</data4/pisano/ASKAP/tmp_5.map>+</data4/pisano/ASKAP/sum_4.map>', out=/data4/pisano/ASKAP/sum_5.map\n",
      "miriad maths - INFO : task=maths, options=unmask, exp='</data4/pisano/ASKAP/tmp_6.map>+</data4/pisano/ASKAP/sum_5.map>', out=/data4/pisano/ASKAP/sum_6.map\n",
      "miriad maths - INFO : task=maths, options=unmask, exp='</data4/pisano/ASKAP/tmp_7.map>+</data4/pisano/ASKAP/sum_6.map>', out=/data4/pisano/ASKAP/sum_7.map\n",
      "miriad maths - INFO : task=maths, options=unmask, exp='</data4/pisano/ASKAP/tmp_8.map>+</data4/pisano/ASKAP/sum_7.map>', out=/data4/pisano/ASKAP/sum_8.map\n",
      "miriad maths - INFO : task=maths, options=unmask, exp='</data4/pisano/ASKAP/beam_0.map>*(-2226.51524708)', out=/data4/pisano/ASKAP/tmp_0.map\n",
      "miriad maths - INFO : task=maths, options=unmask, exp='</data4/pisano/ASKAP/beam_1.map>*(448.894880519)', out=/data4/pisano/ASKAP/tmp_1.map\n",
      "miriad maths - INFO : task=maths, options=unmask, exp='</data4/pisano/ASKAP/beam_2.map>*(-123.999058921)', out=/data4/pisano/ASKAP/tmp_2.map\n",
      "miriad maths - INFO : task=maths, options=unmask, exp='</data4/pisano/ASKAP/beam_3.map>*(972.066370658)', out=/data4/pisano/ASKAP/tmp_3.map\n",
      "miriad maths - INFO : task=maths, options=unmask, exp='</data4/pisano/ASKAP/beam_4.map>*(-2843.89418333)', out=/data4/pisano/ASKAP/tmp_4.map\n",
      "miriad maths - INFO : task=maths, options=unmask, exp='</data4/pisano/ASKAP/beam_5.map>*(15028.5071499)', out=/data4/pisano/ASKAP/tmp_5.map\n",
      "miriad maths - INFO : task=maths, options=unmask, exp='</data4/pisano/ASKAP/beam_6.map>*(-1899.12660043)', out=/data4/pisano/ASKAP/tmp_6.map\n",
      "miriad maths - INFO : task=maths, options=unmask, exp='</data4/pisano/ASKAP/beam_7.map>*(-193.536335862)', out=/data4/pisano/ASKAP/tmp_7.map\n",
      "miriad maths - INFO : task=maths, options=unmask, exp='</data4/pisano/ASKAP/beam_8.map>*(-1585.89336207)', out=/data4/pisano/ASKAP/tmp_8.map\n",
      "miriad maths - INFO : task=maths, options=unmask, exp='</data4/pisano/ASKAP/tmp_0.map>+</data4/pisano/ASKAP/tmp_1.map>', out=/data4/pisano/ASKAP/sum_1.map\n",
      "miriad maths - INFO : task=maths, options=unmask, exp='</data4/pisano/ASKAP/tmp_2.map>+</data4/pisano/ASKAP/sum_1.map>', out=/data4/pisano/ASKAP/sum_2.map\n",
      "miriad maths - INFO : task=maths, options=unmask, exp='</data4/pisano/ASKAP/tmp_3.map>+</data4/pisano/ASKAP/sum_2.map>', out=/data4/pisano/ASKAP/sum_3.map\n",
      "miriad maths - INFO : task=maths, options=unmask, exp='</data4/pisano/ASKAP/tmp_4.map>+</data4/pisano/ASKAP/sum_3.map>', out=/data4/pisano/ASKAP/sum_4.map\n",
      "miriad maths - INFO : task=maths, options=unmask, exp='</data4/pisano/ASKAP/tmp_5.map>+</data4/pisano/ASKAP/sum_4.map>', out=/data4/pisano/ASKAP/sum_5.map\n",
      "miriad maths - INFO : task=maths, options=unmask, exp='</data4/pisano/ASKAP/tmp_6.map>+</data4/pisano/ASKAP/sum_5.map>', out=/data4/pisano/ASKAP/sum_6.map\n",
      "miriad maths - INFO : task=maths, options=unmask, exp='</data4/pisano/ASKAP/tmp_7.map>+</data4/pisano/ASKAP/sum_6.map>', out=/data4/pisano/ASKAP/sum_7.map\n",
      "miriad maths - INFO : task=maths, options=unmask, exp='</data4/pisano/ASKAP/tmp_8.map>+</data4/pisano/ASKAP/sum_7.map>', out=/data4/pisano/ASKAP/sum_8.map\n",
      "miriad maths - INFO : task=maths, options=unmask, exp='</data4/pisano/ASKAP/beam_0.map>*(-2010.86911195)', out=/data4/pisano/ASKAP/tmp_0.map\n",
      "miriad maths - INFO : task=maths, options=unmask, exp='</data4/pisano/ASKAP/beam_1.map>*(-2201.92329002)', out=/data4/pisano/ASKAP/tmp_1.map\n",
      "miriad maths - INFO : task=maths, options=unmask, exp='</data4/pisano/ASKAP/beam_2.map>*(796.371183286)', out=/data4/pisano/ASKAP/tmp_2.map\n",
      "miriad maths - INFO : task=maths, options=unmask, exp='</data4/pisano/ASKAP/beam_3.map>*(-74.6447385823)', out=/data4/pisano/ASKAP/tmp_3.map\n",
      "miriad maths - INFO : task=maths, options=unmask, exp='</data4/pisano/ASKAP/beam_4.map>*(498.317590126)', out=/data4/pisano/ASKAP/tmp_4.map\n",
      "miriad maths - INFO : task=maths, options=unmask, exp='</data4/pisano/ASKAP/beam_5.map>*(-1899.12660043)', out=/data4/pisano/ASKAP/tmp_5.map\n",
      "miriad maths - INFO : task=maths, options=unmask, exp='</data4/pisano/ASKAP/beam_6.map>*(14556.3507512)', out=/data4/pisano/ASKAP/tmp_6.map\n",
      "miriad maths - INFO : task=maths, options=unmask, exp='</data4/pisano/ASKAP/beam_7.map>*(-291.288927707)', out=/data4/pisano/ASKAP/tmp_7.map\n",
      "miriad maths - INFO : task=maths, options=unmask, exp='</data4/pisano/ASKAP/beam_8.map>*(-1769.42053482)', out=/data4/pisano/ASKAP/tmp_8.map\n",
      "miriad maths - INFO : task=maths, options=unmask, exp='</data4/pisano/ASKAP/tmp_0.map>+</data4/pisano/ASKAP/tmp_1.map>', out=/data4/pisano/ASKAP/sum_1.map\n"
     ]
    },
    {
     "name": "stderr",
     "output_type": "stream",
     "text": [
      "miriad maths - INFO : task=maths, options=unmask, exp='</data4/pisano/ASKAP/tmp_2.map>+</data4/pisano/ASKAP/sum_1.map>', out=/data4/pisano/ASKAP/sum_2.map\n",
      "miriad maths - INFO : task=maths, options=unmask, exp='</data4/pisano/ASKAP/tmp_3.map>+</data4/pisano/ASKAP/sum_2.map>', out=/data4/pisano/ASKAP/sum_3.map\n",
      "miriad maths - INFO : task=maths, options=unmask, exp='</data4/pisano/ASKAP/tmp_4.map>+</data4/pisano/ASKAP/sum_3.map>', out=/data4/pisano/ASKAP/sum_4.map\n",
      "miriad maths - INFO : task=maths, options=unmask, exp='</data4/pisano/ASKAP/tmp_5.map>+</data4/pisano/ASKAP/sum_4.map>', out=/data4/pisano/ASKAP/sum_5.map\n",
      "miriad maths - INFO : task=maths, options=unmask, exp='</data4/pisano/ASKAP/tmp_6.map>+</data4/pisano/ASKAP/sum_5.map>', out=/data4/pisano/ASKAP/sum_6.map\n",
      "miriad maths - INFO : task=maths, options=unmask, exp='</data4/pisano/ASKAP/tmp_7.map>+</data4/pisano/ASKAP/sum_6.map>', out=/data4/pisano/ASKAP/sum_7.map\n",
      "miriad maths - INFO : task=maths, options=unmask, exp='</data4/pisano/ASKAP/tmp_8.map>+</data4/pisano/ASKAP/sum_7.map>', out=/data4/pisano/ASKAP/sum_8.map\n",
      "miriad maths - INFO : task=maths, options=unmask, exp='</data4/pisano/ASKAP/beam_0.map>*(592.553568929)', out=/data4/pisano/ASKAP/tmp_0.map\n",
      "miriad maths - INFO : task=maths, options=unmask, exp='</data4/pisano/ASKAP/beam_1.map>*(256.280057702)', out=/data4/pisano/ASKAP/tmp_1.map\n",
      "miriad maths - INFO : task=maths, options=unmask, exp='</data4/pisano/ASKAP/beam_2.map>*(-2209.11968214)', out=/data4/pisano/ASKAP/tmp_2.map\n",
      "miriad maths - INFO : task=maths, options=unmask, exp='</data4/pisano/ASKAP/beam_3.map>*(-1460.14628192)', out=/data4/pisano/ASKAP/tmp_3.map\n",
      "miriad maths - INFO : task=maths, options=unmask, exp='</data4/pisano/ASKAP/beam_4.map>*(-22.9627349298)', out=/data4/pisano/ASKAP/tmp_4.map\n",
      "miriad maths - INFO : task=maths, options=unmask, exp='</data4/pisano/ASKAP/beam_5.map>*(-193.536335862)', out=/data4/pisano/ASKAP/tmp_5.map\n",
      "miriad maths - INFO : task=maths, options=unmask, exp='</data4/pisano/ASKAP/beam_6.map>*(-291.288927707)', out=/data4/pisano/ASKAP/tmp_6.map\n",
      "miriad maths - INFO : task=maths, options=unmask, exp='</data4/pisano/ASKAP/beam_7.map>*(13402.1155098)', out=/data4/pisano/ASKAP/tmp_7.map\n",
      "miriad maths - INFO : task=maths, options=unmask, exp='</data4/pisano/ASKAP/beam_8.map>*(56.0290428745)', out=/data4/pisano/ASKAP/tmp_8.map\n",
      "miriad maths - INFO : task=maths, options=unmask, exp='</data4/pisano/ASKAP/tmp_0.map>+</data4/pisano/ASKAP/tmp_1.map>', out=/data4/pisano/ASKAP/sum_1.map\n",
      "miriad maths - INFO : task=maths, options=unmask, exp='</data4/pisano/ASKAP/tmp_2.map>+</data4/pisano/ASKAP/sum_1.map>', out=/data4/pisano/ASKAP/sum_2.map\n",
      "miriad maths - INFO : task=maths, options=unmask, exp='</data4/pisano/ASKAP/tmp_3.map>+</data4/pisano/ASKAP/sum_2.map>', out=/data4/pisano/ASKAP/sum_3.map\n",
      "miriad maths - INFO : task=maths, options=unmask, exp='</data4/pisano/ASKAP/tmp_4.map>+</data4/pisano/ASKAP/sum_3.map>', out=/data4/pisano/ASKAP/sum_4.map\n",
      "miriad maths - INFO : task=maths, options=unmask, exp='</data4/pisano/ASKAP/tmp_5.map>+</data4/pisano/ASKAP/sum_4.map>', out=/data4/pisano/ASKAP/sum_5.map\n",
      "miriad maths - INFO : task=maths, options=unmask, exp='</data4/pisano/ASKAP/tmp_6.map>+</data4/pisano/ASKAP/sum_5.map>', out=/data4/pisano/ASKAP/sum_6.map\n",
      "miriad maths - INFO : task=maths, options=unmask, exp='</data4/pisano/ASKAP/tmp_7.map>+</data4/pisano/ASKAP/sum_6.map>', out=/data4/pisano/ASKAP/sum_7.map\n",
      "miriad maths - INFO : task=maths, options=unmask, exp='</data4/pisano/ASKAP/tmp_8.map>+</data4/pisano/ASKAP/sum_7.map>', out=/data4/pisano/ASKAP/sum_8.map\n",
      "miriad maths - INFO : task=maths, options=unmask, exp='</data4/pisano/ASKAP/beam_0.map>*(558.226698127)', out=/data4/pisano/ASKAP/tmp_0.map\n",
      "miriad maths - INFO : task=maths, options=unmask, exp='</data4/pisano/ASKAP/beam_1.map>*(-7.07989878736)', out=/data4/pisano/ASKAP/tmp_1.map\n",
      "miriad maths - INFO : task=maths, options=unmask, exp='</data4/pisano/ASKAP/beam_2.map>*(-269.35631396)', out=/data4/pisano/ASKAP/tmp_2.map\n",
      "miriad maths - INFO : task=maths, options=unmask, exp='</data4/pisano/ASKAP/beam_3.map>*(-297.26996248)', out=/data4/pisano/ASKAP/tmp_3.map\n",
      "miriad maths - INFO : task=maths, options=unmask, exp='</data4/pisano/ASKAP/beam_4.map>*(-42.4010627425)', out=/data4/pisano/ASKAP/tmp_4.map\n",
      "miriad maths - INFO : task=maths, options=unmask, exp='</data4/pisano/ASKAP/beam_5.map>*(-1585.89336207)', out=/data4/pisano/ASKAP/tmp_5.map\n",
      "miriad maths - INFO : task=maths, options=unmask, exp='</data4/pisano/ASKAP/beam_6.map>*(-1769.42053482)', out=/data4/pisano/ASKAP/tmp_6.map\n",
      "miriad maths - INFO : task=maths, options=unmask, exp='</data4/pisano/ASKAP/beam_7.map>*(56.0290428745)', out=/data4/pisano/ASKAP/tmp_7.map\n",
      "miriad maths - INFO : task=maths, options=unmask, exp='</data4/pisano/ASKAP/beam_8.map>*(14051.7970288)', out=/data4/pisano/ASKAP/tmp_8.map\n",
      "miriad maths - INFO : task=maths, options=unmask, exp='</data4/pisano/ASKAP/tmp_0.map>+</data4/pisano/ASKAP/tmp_1.map>', out=/data4/pisano/ASKAP/sum_1.map\n",
      "miriad maths - INFO : task=maths, options=unmask, exp='</data4/pisano/ASKAP/tmp_2.map>+</data4/pisano/ASKAP/sum_1.map>', out=/data4/pisano/ASKAP/sum_2.map\n",
      "miriad maths - INFO : task=maths, options=unmask, exp='</data4/pisano/ASKAP/tmp_3.map>+</data4/pisano/ASKAP/sum_2.map>', out=/data4/pisano/ASKAP/sum_3.map\n",
      "miriad maths - INFO : task=maths, options=unmask, exp='</data4/pisano/ASKAP/tmp_4.map>+</data4/pisano/ASKAP/sum_3.map>', out=/data4/pisano/ASKAP/sum_4.map\n",
      "miriad maths - INFO : task=maths, options=unmask, exp='</data4/pisano/ASKAP/tmp_5.map>+</data4/pisano/ASKAP/sum_4.map>', out=/data4/pisano/ASKAP/sum_5.map\n",
      "miriad maths - INFO : task=maths, options=unmask, exp='</data4/pisano/ASKAP/tmp_6.map>+</data4/pisano/ASKAP/sum_5.map>', out=/data4/pisano/ASKAP/sum_6.map\n",
      "miriad maths - INFO : task=maths, options=unmask, exp='</data4/pisano/ASKAP/tmp_7.map>+</data4/pisano/ASKAP/sum_6.map>', out=/data4/pisano/ASKAP/sum_7.map\n",
      "miriad maths - INFO : task=maths, options=unmask, exp='</data4/pisano/ASKAP/tmp_8.map>+</data4/pisano/ASKAP/sum_7.map>', out=/data4/pisano/ASKAP/sum_8.map\n"
     ]
    }
   ],
   "source": [
    "# Now, we need to do the matrix math\n",
    "\n",
    "# First calculate transpose of beam matrix multiplied by the inverse covariance matrix\n",
    "# Will use *maths* and *imcomb* in Miriad\n",
    "\n",
    "# Using \"beams\" list to account for missing beams/images\n",
    "# Only doing math where inv_cov value is non-zero\n",
    "\n",
    "maths = lib.miriad('maths')\n",
    "for bm in beams:\n",
    "    for b in beams:\n",
    "        maths.out = basedir+'tmp_{}.map'.format(str(b))\n",
    "        if inv_cov[b,bm]!=0.:\n",
    "                operate=\"'<\"+basedir+\"beam_{0}.map>*({1})'\".format(str(b),inv_cov[b,bm])\n",
    "        maths.exp = operate\n",
    "        maths.options='unmask'\n",
    "        maths.inp()\n",
    "        maths.go()\n",
    "    i=1\n",
    "    while i<len(beams):\n",
    "        if i==1:\n",
    "            operate = \"'<\"+basedir+\"tmp_{}.map>+<\".format(str(beams[i-1]))+basedir+\"tmp_{}.map>'\".format(str(beams[i]))\n",
    "        else:\n",
    "            operate=\"'<\"+basedir+\"tmp_{}.map>\".format(str(beams[i]))+\"+<\"+basedir+\"sum_{}.map>'\".format(str(beams[i-1]))\n",
    "        maths.out = basedir+'sum_{}.map'.format(str(beams[i]))\n",
    "        maths.exp = operate\n",
    "        maths.options='unmask'\n",
    "        maths.inp()\n",
    "        maths.go()\n",
    "        i+=1\n",
    "        \n",
    "    os.rename(basedir+'sum_{}.map'.format(str(beams[i-1])),basedir+'btci_{}.map'.format(str(bm)))\n",
    "\n",
    "    for fl in glob.glob(basedir+'tmp_*.map'):\n",
    "        shutil.rmtree(fl)\n",
    "    for fl in glob.glob(basedir+'sum_*.map'):\n",
    "        shutil.rmtree(fl)\n"
   ]
  },
  {
   "cell_type": "code",
   "execution_count": 12,
   "metadata": {
    "scrolled": true
   },
   "outputs": [
    {
     "name": "stderr",
     "output_type": "stream",
     "text": [
      "miriad maths - INFO : task=maths, options=unmask, exp='</data4/pisano/ASKAP/btci_0.map>*</data4/pisano/ASKAP/beam_0.map>', out=/data4/pisano/ASKAP/out_1_mos.map\n",
      "miriad maths - INFO : task=maths, options=unmask, exp='</data4/pisano/ASKAP/btci_1.map>*</data4/pisano/ASKAP/beam_1.map>+</data4/pisano/ASKAP/out_1_mos.map>', out=/data4/pisano/ASKAP/out_2_mos.map\n",
      "miriad maths - INFO : task=maths, options=unmask, exp='</data4/pisano/ASKAP/btci_2.map>*</data4/pisano/ASKAP/beam_2.map>+</data4/pisano/ASKAP/out_2_mos.map>', out=/data4/pisano/ASKAP/out_3_mos.map\n",
      "miriad maths - INFO : task=maths, options=unmask, exp='</data4/pisano/ASKAP/btci_3.map>*</data4/pisano/ASKAP/beam_3.map>+</data4/pisano/ASKAP/out_3_mos.map>', out=/data4/pisano/ASKAP/out_4_mos.map\n",
      "miriad maths - INFO : task=maths, options=unmask, exp='</data4/pisano/ASKAP/btci_4.map>*</data4/pisano/ASKAP/beam_4.map>+</data4/pisano/ASKAP/out_4_mos.map>', out=/data4/pisano/ASKAP/out_5_mos.map\n",
      "miriad maths - INFO : task=maths, options=unmask, exp='</data4/pisano/ASKAP/btci_5.map>*</data4/pisano/ASKAP/beam_5.map>+</data4/pisano/ASKAP/out_5_mos.map>', out=/data4/pisano/ASKAP/out_6_mos.map\n",
      "miriad maths - INFO : task=maths, options=unmask, exp='</data4/pisano/ASKAP/btci_6.map>*</data4/pisano/ASKAP/beam_6.map>+</data4/pisano/ASKAP/out_6_mos.map>', out=/data4/pisano/ASKAP/out_7_mos.map\n",
      "miriad maths - INFO : task=maths, options=unmask, exp='</data4/pisano/ASKAP/btci_7.map>*</data4/pisano/ASKAP/beam_7.map>+</data4/pisano/ASKAP/out_7_mos.map>', out=/data4/pisano/ASKAP/out_8_mos.map\n",
      "miriad maths - INFO : task=maths, options=unmask, exp='</data4/pisano/ASKAP/btci_8.map>*</data4/pisano/ASKAP/beam_8.map>+</data4/pisano/ASKAP/out_8_mos.map>', out=/data4/pisano/ASKAP/out_9_mos.map\n"
     ]
    }
   ],
   "source": [
    "# Calculate variance map (using beams and noise covariance matrix over entire map)\n",
    "# This is the denominator for I(mosaic)\n",
    "\n",
    "maths = lib.miriad('maths')\n",
    "i=0\n",
    "for bm in beams:\n",
    "    operate=\"'<\"+basedir+\"btci_{}.map>*<\".format(str(bm))+basedir+\"beam_{}.map>'\".format(str(bm))\n",
    "    if bm!=beams[0]:\n",
    "        operate=operate[:-1]+\"+<\"+basedir+\"out_{}_mos.map>'\".format(str(i))\n",
    "    i+=1\n",
    "    maths.out = basedir+\"out_{}_mos.map\".format(str(i))\n",
    "    maths.exp = operate\n",
    "    maths.options='unmask'\n",
    "    maths.inp()\n",
    "    maths.go()\n",
    "\n",
    "os.rename(basedir+'out_{}_mos.map'.format(str(i)),basedir+'variance_mos.map')\n",
    "   "
   ]
  },
  {
   "cell_type": "code",
   "execution_count": 13,
   "metadata": {
    "scrolled": true
   },
   "outputs": [
    {
     "name": "stderr",
     "output_type": "stream",
     "text": [
      "miriad maths - INFO : task=maths, options=unmask,grow, exp='</data4/pisano/ASKAP/image_0.map>*</data4/pisano/ASKAP/btci_0.map>', out=/data4/pisano/ASKAP/mos_1.map\n",
      "miriad maths - INFO : task=maths, options=unmask,grow, exp='</data4/pisano/ASKAP/image_1.map>*</data4/pisano/ASKAP/btci_1.map>+</data4/pisano/ASKAP/mos_1.map>', out=/data4/pisano/ASKAP/mos_2.map\n",
      "miriad maths - INFO : task=maths, options=unmask,grow, exp='</data4/pisano/ASKAP/image_2.map>*</data4/pisano/ASKAP/btci_2.map>+</data4/pisano/ASKAP/mos_2.map>', out=/data4/pisano/ASKAP/mos_3.map\n",
      "miriad maths - INFO : task=maths, options=unmask,grow, exp='</data4/pisano/ASKAP/image_3.map>*</data4/pisano/ASKAP/btci_3.map>+</data4/pisano/ASKAP/mos_3.map>', out=/data4/pisano/ASKAP/mos_4.map\n",
      "miriad maths - INFO : task=maths, options=unmask,grow, exp='</data4/pisano/ASKAP/image_4.map>*</data4/pisano/ASKAP/btci_4.map>+</data4/pisano/ASKAP/mos_4.map>', out=/data4/pisano/ASKAP/mos_5.map\n",
      "miriad maths - INFO : task=maths, options=unmask,grow, exp='</data4/pisano/ASKAP/image_5.map>*</data4/pisano/ASKAP/btci_5.map>+</data4/pisano/ASKAP/mos_5.map>', out=/data4/pisano/ASKAP/mos_6.map\n",
      "miriad maths - INFO : task=maths, options=unmask,grow, exp='</data4/pisano/ASKAP/image_6.map>*</data4/pisano/ASKAP/btci_6.map>+</data4/pisano/ASKAP/mos_6.map>', out=/data4/pisano/ASKAP/mos_7.map\n",
      "miriad maths - INFO : task=maths, options=unmask,grow, exp='</data4/pisano/ASKAP/image_7.map>*</data4/pisano/ASKAP/btci_7.map>+</data4/pisano/ASKAP/mos_7.map>', out=/data4/pisano/ASKAP/mos_8.map\n",
      "miriad maths - INFO : task=maths, options=unmask,grow, exp='</data4/pisano/ASKAP/image_8.map>*</data4/pisano/ASKAP/btci_8.map>+</data4/pisano/ASKAP/mos_8.map>', out=/data4/pisano/ASKAP/mos_9.map\n"
     ]
    }
   ],
   "source": [
    "# Calculate transpose of beam matrix multiplied by noise_cov multiplied by image from each beam for each position\n",
    "# in the final image\n",
    "\n",
    "maths = lib.miriad('maths')\n",
    "i=0\n",
    "for bm in beams:\n",
    "    #operate=\"'<\"+basedir+\"image_{}_convol.map>*<\".format(str(bm))+basedir+\"btci_{}.map>'\".format(str(bm))\n",
    "    operate=\"'<\"+basedir+\"image_{}.map>*<\".format(str(bm))+basedir+\"btci_{}.map>'\".format(str(bm))\n",
    "    if bm!=beams[0]:\n",
    "        operate=operate[:-1]+\"+<\"+basedir+\"mos_{}.map>'\".format(str(i))\n",
    "    i+=1\n",
    "    maths.out = basedir+\"mos_{}.map\".format(str(i))\n",
    "    maths.exp = operate\n",
    "    maths.options='unmask,grow'\n",
    "    maths.inp()\n",
    "    maths.go()\n",
    "os.rename(basedir+'mos_{}.map'.format(str(i)),basedir+'mosaic_im.map')\n"
   ]
  },
  {
   "cell_type": "code",
   "execution_count": 14,
   "metadata": {},
   "outputs": [
    {
     "name": "stdout",
     "output_type": "stream",
     "text": [
      "1.509E+04\n"
     ]
    }
   ],
   "source": [
    "# Find maximum value of variance map\n",
    "imstat = lib.miriad('imstat')\n",
    "imstat.in_=\"'\"+basedir+\"variance_mos.map'\"\n",
    "imstat.region=\"'quarter(1)'\"\n",
    "imstat.axes=\"'x,y'\"\n",
    "a=imstat.go()\n",
    "\n",
    "# Always outputs max value at same point\n",
    "var_max=a[-1].split(\" \")[-4]\n",
    "print(var_max)"
   ]
  },
  {
   "cell_type": "code",
   "execution_count": 15,
   "metadata": {},
   "outputs": [
    {
     "name": "stderr",
     "output_type": "stream",
     "text": [
      "miriad maths - INFO : task=maths, mask='</data4/pisano/ASKAP/variance_mos.map>.gt.0.0625*1.509E+04', options=grow, exp='</data4/pisano/ASKAP/mosaic_im.map>/</data4/pisano/ASKAP/variance_mos.map>', out=/data4/pisano/ASKAP/mosaic_final.map\n"
     ]
    },
    {
     "data": {
      "text/plain": [
       "['', 'maths: Revision 1.7, 2018/11/29 23:34:06 UTC', '']"
      ]
     },
     "execution_count": 15,
     "metadata": {},
     "output_type": "execute_result"
    }
   ],
   "source": [
    "# Divide image by variance map\n",
    "\n",
    "maths = lib.miriad('maths')\n",
    "maths.out = basedir+'mosaic_final.map'\n",
    "maths.exp=\"'<\"+basedir+\"mosaic_im.map>/<\"+basedir+\"variance_mos.map>'\"\n",
    "maths.mask=\"'<\"+basedir+\"variance_mos.map>.gt.0.0625*\"+str(var_max)+\"'\"\n",
    "maths.options='grow'\n",
    "maths.inp()\n",
    "maths.go()\n"
   ]
  },
  {
   "cell_type": "code",
   "execution_count": 16,
   "metadata": {},
   "outputs": [
    {
     "name": "stderr",
     "output_type": "stream",
     "text": [
      "miriad maths - INFO : task=maths, mask='</data4/pisano/ASKAP/variance_mos.map>.gt.0.0625*1.509E+04', exp='1./sqrt(</data4/pisano/ASKAP/variance_mos.map>)', out=/data4/pisano/ASKAP/mosaic_noise.map\n"
     ]
    },
    {
     "data": {
      "text/plain": [
       "['', 'puthd: Revision 1.3, 2011/09/15 05:53:36 UTC', '']"
      ]
     },
     "execution_count": 16,
     "metadata": {},
     "output_type": "execute_result"
    }
   ],
   "source": [
    "# Produce mosaic noise map\n",
    "maths = lib.miriad('maths')\n",
    "maths.out = basedir+'mosaic_noise.map'\n",
    "maths.exp=\"'1./sqrt(<\"+basedir+\"variance_mos.map>)'\"\n",
    "maths.mask=\"'<\"+basedir+\"variance_mos.map>.gt.0.0625*\"+str(var_max)+\"'\"\n",
    "maths.inp()\n",
    "maths.go()\n",
    "\n",
    "puthd = lib.miriad('puthd')\n",
    "puthd.in_=basedir+'mosaic_noise.map/bunit'\n",
    "puthd.value='JY/BEAM'\n",
    "puthd.go()"
   ]
  },
  {
   "cell_type": "code",
   "execution_count": 17,
   "metadata": {},
   "outputs": [],
   "source": [
    "# Clean up files\n",
    "for fl in glob.glob(basedir+'*_convol.map'):\n",
    "    shutil.rmtree(fl)\n",
    "\n",
    "shutil.rmtree(basedir+'mosaic_im.map')\n",
    "\n",
    "for fl in glob.glob(basedir+'mos_*.map'):\n",
    "    shutil.rmtree(fl)\n",
    "\n",
    "for fl in glob.glob(basedir+'btci_*.map'):\n",
    "    shutil.rmtree(fl)\n",
    "    \n",
    "for fl in glob.glob(basedir+'out_*_mos.map'):\n",
    "    shutil.rmtree(fl)"
   ]
  },
  {
   "cell_type": "code",
   "execution_count": 20,
   "metadata": {},
   "outputs": [
    {
     "name": "stderr",
     "output_type": "stream",
     "text": [
      "miriad fits - INFO : task=fits, out=/data4/pisano/ASKAP/mosaic_final.fits, in_=/data4/pisano/ASKAP/mosaic_final.map, op=xyout\n",
      "miriad fits - INFO : task=fits, out=/data4/pisano/ASKAP/mosaic_noise.fits, in_=/data4/pisano/ASKAP/mosaic_noise.map, op=xyout\n"
     ]
    },
    {
     "data": {
      "text/plain": [
       "['', 'fits: Revision 1.33, 2018/12/04 04:02:11 UTC', '']"
      ]
     },
     "execution_count": 20,
     "metadata": {},
     "output_type": "execute_result"
    }
   ],
   "source": [
    "# Write out FITS files\n",
    "fits = lib.miriad('fits')\n",
    "fits.op='xyout'\n",
    "fits.in_=basedir+'mosaic_final.map'\n",
    "fits.out=basedir+'mosaic_final.fits'\n",
    "fits.inp()\n",
    "fits.go()\n",
    "\n",
    "fits.in_=basedir+'mosaic_noise.map'\n",
    "fits.out=basedir+'mosaic_noise.fits'\n",
    "fits.inp()\n",
    "fits.go()"
   ]
  },
  {
   "cell_type": "code",
   "execution_count": 18,
   "metadata": {},
   "outputs": [
    {
     "name": "stderr",
     "output_type": "stream",
     "text": [
      "miriad fits - INFO : task=fits, out=/data4/pisano/ASKAP/mosaic_orig.map, in_=/data4/pisano/ASKAP/moscov.fits, op=xyin\n"
     ]
    },
    {
     "data": {
      "text/plain": [
       "['',\n",
       " 'fits: Revision 1.33, 2018/12/04 04:02:11 UTC',\n",
       " '',\n",
       " 'Phase and pointing centres differ ... saving pointing information',\n",
       " 'There were no blanked pixels in the input']"
      ]
     },
     "execution_count": 18,
     "metadata": {},
     "output_type": "execute_result"
    }
   ],
   "source": [
    "# Import original cube\n",
    "fits = lib.miriad('fits')\n",
    "fits.op='xyin'\n",
    "fits.in_=basedir+'moscov.fits'\n",
    "fits.out=basedir+'mosaic_orig.map'\n",
    "fits.inp()\n",
    "fits.go()\n"
   ]
  },
  {
   "cell_type": "code",
   "execution_count": 19,
   "metadata": {},
   "outputs": [
    {
     "data": {
      "text/plain": [
       "['', 'maths: Revision 1.7, 2018/11/29 23:34:06 UTC', '']"
      ]
     },
     "execution_count": 19,
     "metadata": {},
     "output_type": "execute_result"
    }
   ],
   "source": [
    "# Difference mosaic cubes\n",
    "\n",
    "maths = lib.miriad('maths')\n",
    "maths.exp = \"'<\"+basedir+\"mosaic_final.map>-<\"+basedir+\"mosaic_orig.map>'\"\n",
    "maths.out = basedir+'mosaic_diff.map'\n",
    "maths.go()"
   ]
  },
  {
   "cell_type": "code",
   "execution_count": 21,
   "metadata": {},
   "outputs": [
    {
     "name": "stderr",
     "output_type": "stream",
     "text": [
      "miriad fits - INFO : task=fits, out=/data4/pisano/ASKAP/mosaic_diff.fits, in_=/data4/pisano/ASKAP/mosaic_diff.map, op=xyout\n"
     ]
    },
    {
     "data": {
      "text/plain": [
       "['', 'fits: Revision 1.33, 2018/12/04 04:02:11 UTC', '']"
      ]
     },
     "execution_count": 21,
     "metadata": {},
     "output_type": "execute_result"
    }
   ],
   "source": [
    "# Write out difference cube to fits\n",
    "fits = lib.miriad('fits')\n",
    "fits.op='xyout'\n",
    "fits.in_=basedir+'mosaic_diff.map'\n",
    "fits.out=basedir+'mosaic_diff.fits'\n",
    "fits.inp()\n",
    "fits.go()\n"
   ]
  },
  {
   "cell_type": "code",
   "execution_count": null,
   "metadata": {},
   "outputs": [],
   "source": [
    "# Create difference map of mosaic noise\n",
    "fits = lib.miriad('fits')\n",
    "fits.op='xyin'\n",
    "fits.in_=basedir+'rmscov.fits'\n",
    "fits.out=basedir+'rms_orig.map'\n",
    "fits.inp()\n",
    "fits.go()\n",
    "\n",
    "# Difference noise maps\n",
    "\n",
    "maths = lib.miriad('maths')\n",
    "maths.exp = \"'<\"+basedir+\"mosaic_noise.map>-<\"+basedir+\"rms_orig.map>'\"\n",
    "maths.out = basedir+'rms_diff.map'\n",
    "maths.inp()\n",
    "maths.go()\n",
    "\n",
    "# Write out difference map to fits\n",
    "fits = lib.miriad('fits')\n",
    "fits.op='xyout'\n",
    "fits.in_=basedir+'rms_diff.map'\n",
    "fits.out=basedir+'rms_diff.fits'\n",
    "fits.inp()\n",
    "fits.go()\n"
   ]
  }
 ],
 "metadata": {
  "kernelspec": {
   "display_name": "Python 2",
   "language": "python",
   "name": "python2"
  },
  "language_info": {
   "codemirror_mode": {
    "name": "ipython",
    "version": 2
   },
   "file_extension": ".py",
   "mimetype": "text/x-python",
   "name": "python",
   "nbconvert_exporter": "python",
   "pygments_lexer": "ipython2",
   "version": "2.7.12"
  }
 },
 "nbformat": 4,
 "nbformat_minor": 2
}
