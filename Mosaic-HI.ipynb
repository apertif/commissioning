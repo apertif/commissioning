{
 "cells": [
  {
   "cell_type": "markdown",
   "metadata": {},
   "source": [
    "# Mosaicking Apertif HI Data\n",
    "\n",
    "### This notebook is for developing the needed mosaicking algorithm to properly account for the covariance of the noise between beams.  \n",
    "\n",
    "### This notebook is identical to the continuum version, except for the importing of the cubes instead of continuum maps.\n",
    "\n",
    "#### June 6, 2019 D.J. Pisano\n"
   ]
  },
  {
   "cell_type": "markdown",
   "metadata": {},
   "source": [
    "For starters, we will use the Apercal environment to work with data.  These tests are using the Lockman Hole data from observation 190428055."
   ]
  },
  {
   "cell_type": "code",
   "execution_count": null,
   "metadata": {},
   "outputs": [],
   "source": [
    "# Import needed packages\n",
    "import os;\n",
    "import shutil\n",
    "import glob\n",
    "import apercal.libs.lib as lib\n",
    "import apercal\n",
    "import numpy as np\n",
    "import matplotlib.pyplot as plt\n",
    "from datetime import datetime,timedelta\n",
    "from astropy.time import Time\n",
    "import subprocess\n",
    "\n",
    "myusername = os.environ['USER']\n",
    "if not ('PYTHONPATH' in os.environ and\n",
    "        '/home/' + myusername + '/apercal' in os.environ['PYTHONPATH']):\n",
    "      print(\"WARNING: your apercal directory should be in the $PYTHONPATH\")\n",
    "\n",
    "%config IPCompleter.greedy=True\n",
    "%matplotlib notebook\n",
    "lib.setup_logger('info', logfile='/home/{}/testing/logs/mosaic_HI.log'.format(myusername))\n",
    "\n",
    "cfgfile='/home/{}/testing/cfg/mosaic.cfg'.format(myusername)\n",
    "\n",
    "metadir='/home/{}/metadata/'.format(myusername)   # This directory is where the beam map and correlation matrix reside.\n",
    "\n",
    "\n",
    "%matplotlib inline\n",
    "\n"
   ]
  },
  {
   "cell_type": "code",
   "execution_count": null,
   "metadata": {},
   "outputs": [],
   "source": [
    "# Get needed values from configuration file for where data is and where it is going.\n",
    "prepare=apercal.prepare(cfgfile)\n",
    "\n",
    "basedir=prepare.basedir\n",
    "projectid=prepare.prepare_date+prepare.prepare_obsnum_target\n",
    "\n",
    "linedir=basedir+projectid+'/line'\n",
    "\n",
    "imagedir=linedir+'/raw/'\n",
    "\n",
    "mosaicdir=linedir+'/'+prepare.mossubdir+'/'\n",
    "beamdir=linedir+'/beams/'\n",
    "#noisedir=basedir+projectid+'noise/'\n",
    "\n",
    "# Create directories as needed.\n",
    "if os.path.isdir(basedir+projectid)==False:\n",
    "    os.mkdir(basedir+projectid)\n",
    "if os.path.isdir(linedir)==False:\n",
    "    os.mkdir(linedir)\n",
    "if os.path.isdir(imagedir)==False:\n",
    "    os.mkdir(imagedir)\n",
    "if os.path.isdir(mosaicdir)==False:\n",
    "    os.mkdir(mosaicdir)\n",
    "if os.path.isdir(beamdir)==False:\n",
    "    os.mkdir(beamdir)\n",
    "\n"
   ]
  },
  {
   "cell_type": "markdown",
   "metadata": {},
   "source": [
    "## We assume that we have a beam model/models and a correlation matrix already generated and saved.  \n",
    "\n",
    "## We can now start importing data."
   ]
  },
  {
   "cell_type": "code",
   "execution_count": null,
   "metadata": {},
   "outputs": [],
   "source": [
    "# Copy all images from all individual beams to \"mosaic\" directory\n",
    "\n",
    "for beam in range(40):\n",
    "    os.mkdir(imagedir+'{}'.format(str(beam).zfill(2)))\n",
    "    if beam<10:\n",
    "        os.system('cp /data/apertif/{0}/{1}/line/cubes/HI_image_cube_contsub.fits '.format(projectid,str(beam).zfill(2))+imagedir+'{}/.'.format(str(beam).zfill(2)))\n",
    "    elif beam<20:\n",
    "        os.system('cp /data2/apertif/{0}/{1}/line/cubes/HI_image_cube_contsub.fits '.format(projectid,str(beam).zfill(2))+imagedir+'{}/.'.format(str(beam).zfill(2)))\n",
    "    elif beam<30:\n",
    "        os.system('cp /data3/apertif/{0}/{1}/line/cubes/HI_image_cube_contsub.fits '.format(projectid,str(beam).zfill(2))+imagedir+'{}/.'.format(str(beam).zfill(2)))\n",
    "    elif beam<40:\n",
    "        os.system('cp /data4/apertif/{0}/{1}/line/cubes/HI_image_cube_contsub.fits '.format(projectid,str(beam).zfill(2))+imagedir+'{}/.'.format(str(beam).zfill(2)))\n"
   ]
  },
  {
   "cell_type": "code",
   "execution_count": null,
   "metadata": {},
   "outputs": [],
   "source": [
    "# Import images/beams into Miriad\n",
    "\n",
    "\n",
    "def import_image(beam_num):\n",
    "    # This function will import a FITS image into Miriad placing it in the mosaicdir\n",
    "    fits = lib.miriad('fits')\n",
    "    fits.op = 'xyin'\n",
    "    fits.in_ = imagedir+'{}/HI_image_cube_contsub.fits'.format(str(beam_num).zfill(2))\n",
    "    fits.out = imagedir+'image_{}.map'.format(str(beam_num).zfill(2))\n",
    "    fits.inp()\n",
    "    fits.go()\n",
    "    \n",
    "def import_beam(beam_num):\n",
    "    # This function will import the FITS image of a beam into Miriad format, placing it in the mosaicdir\n",
    "    fits = lib.miriad('fits')\n",
    "    fits.op = 'xyin'\n",
    "    fits.in_ = metadir+'beam_{}.fits'.format(str(beam_num).zfill(2))\n",
    "    fits.out = beamdir+'beam_{}.map'.format(str(beam_num).zfill(2))\n",
    "    fits.inp()\n",
    "    fits.go()\n",
    "    \n",
    "def duplicate_import_beam(beam_num):\n",
    "    fits = lib.miriad('fits')\n",
    "    fits.op = 'xyin'\n",
    "    #fits.in_ = metadir+'cos6_beam.fits'\n",
    "    fits.in_ = metadir+'gauss_beam.fits'\n",
    "    fits.out = beamdir+'beam_{}.map'.format(str(beam_num).zfill(2))\n",
    "    fits.inp()\n",
    "    fits.go()\n",
    "    \n",
    "def valid_beam(bm_num):\n",
    "    # This function will determine if there is a valid image for a given beam\n",
    "    if os.path.exists(imagedir+'{}/HI_image_cube_contsub.fits'.format(str(bm_num).zfill(2))):\n",
    "        return True\n",
    "    else:\n",
    "        return False\n",
    "\n"
   ]
  },
  {
   "cell_type": "code",
   "execution_count": null,
   "metadata": {
    "scrolled": true
   },
   "outputs": [],
   "source": [
    "# Import images from good beams \n",
    "beams=[]\n",
    "for bm_num in range(40):\n",
    "    if valid_beam(bm_num):\n",
    "        beams.append(bm_num)\n",
    "        \n",
    "    \n",
    "print(beams)\n",
    "\n",
    "for beam in beams:\n",
    "    import_image(beam)\n",
    "    #import_beam(beam)\n",
    "    duplicate_import_beam(beam)"
   ]
  },
  {
   "cell_type": "code",
   "execution_count": null,
   "metadata": {},
   "outputs": [],
   "source": [
    "# Function to measure noise in all beams\n",
    "\n",
    "def beam_noise(bm_num):\n",
    "    sigest = lib.miriad('sigest')\n",
    "    sigest.in_ = imagedir+'image_{}.map'.format(str(bm_num).zfill(2))\n",
    "    return sigest.go()\n",
    "\n"
   ]
  },
  {
   "cell_type": "code",
   "execution_count": null,
   "metadata": {
    "scrolled": false
   },
   "outputs": [],
   "source": [
    "# Read in noise correlation matrix \n",
    "noise_cor=np.loadtxt(metadir+'correlation.txt',dtype='f')\n",
    "\n",
    "# Initialize covariance matrix\n",
    "noise_cov=noise_cor\n",
    "\n",
    "# Measure noise in the image for each beam\n",
    "sigma_beam=np.zeros(40,float)\n",
    "for bm in beams:\n",
    "    sigma_beam[bm]=float(beam_noise(bm)[4].lstrip('Estimated rms is '))\n",
    "    \n",
    "for a in beams:\n",
    "    for b in beams:\n",
    "        noise_cov[a,b]=noise_cor[a,b]*sigma_beam[a]*sigma_beam[b]  # The noise covariance matrix is \n",
    "\n",
    "\n",
    "    \n",
    "# Only the inverse of this matrix is ever used:\n",
    "inv_cov=np.linalg.inv(noise_cov)\n",
    "\n",
    "print(noise_cov)\n",
    "print(inv_cov)"
   ]
  },
  {
   "cell_type": "code",
   "execution_count": null,
   "metadata": {},
   "outputs": [],
   "source": [
    "print(sigma_beam)"
   ]
  },
  {
   "cell_type": "code",
   "execution_count": null,
   "metadata": {},
   "outputs": [],
   "source": [
    "# Transfer reference coordinates from images to associated beams\n",
    "for beam in beams:\n",
    "    gethd = lib.miriad('gethd')\n",
    "    gethd.in_ = imagedir+'image_{}.map/crval1'.format(str(beam).zfill(2))\n",
    "    ra1=gethd.go()\n",
    "    puthd = lib.miriad('puthd')\n",
    "    puthd.in_ = beamdir+'beam_{}.map/crval1'.format(str(beam).zfill(2))\n",
    "    puthd.value = float(ra1[0])\n",
    "    puthd.go()\n",
    "    gethd.in_ = imagedir+'image_{}.map/crval2'.format(str(beam).zfill(2))\n",
    "    dec1=gethd.go()\n",
    "    puthd.in_ = beamdir+'beam_{}.map/crval2'.format(str(beam).zfill(2))\n",
    "    puthd.value = float(dec1[0])\n",
    "    puthd.go()\n"
   ]
  },
  {
   "cell_type": "code",
   "execution_count": null,
   "metadata": {},
   "outputs": [],
   "source": [
    "# Get info in order to convolve images to same synthesized beam size\n",
    "\n",
    "# Extract beam parameters from headers\n",
    "bmaj=[]\n",
    "bmin=[]\n",
    "bpa=[]\n",
    "for beam in beams:\n",
    "    gethd = lib.miriad('gethd')\n",
    "    gethd.in_ = imagedir+'image_{}.map/bmaj'.format(str(beam).zfill(2))\n",
    "    bmaj.append(gethd.go())\n",
    "    gethd.in_ = imagedir+'image_{}.map/bmin'.format(str(beam).zfill(2))\n",
    "    bmin.append(gethd.go())\n",
    "    gethd.in_ = imagedir+'image_{}.map/bpa'.format(str(beam).zfill(2))\n",
    "    bpa.append(gethd.go())\n",
    "    \n",
    "# Calculate maximum bmaj and bmin and median bpa for final convolved beam shape\n",
    "bmajor = [float(x[0]) for x in bmaj]\n",
    "bmajor = 3600.*np.degrees(bmajor)\n",
    "\n",
    "bminor = [float(x[0]) for x in bmin]\n",
    "bminor = 3600.*np.degrees(bminor)\n",
    "\n",
    "bangle = [float(x[0]) for x in bpa]\n",
    "bangle = np.degrees(bangle)\n",
    "\n",
    "c_beam = [1.05*np.nanmax(bmajor),1.05*np.nanmax(bminor),np.nanmedian(bangle)]\n",
    "print('The final, convolved, synthesized beam has bmaj, bmin, bpa of: ',c_beam)"
   ]
  },
  {
   "cell_type": "code",
   "execution_count": null,
   "metadata": {
    "scrolled": true
   },
   "outputs": [],
   "source": [
    "# Convolve all images to same synthesized beam (c_beam)\n",
    "\n",
    "for beam in beams:\n",
    "    convol=lib.miriad('convol')\n",
    "    convol.map = imagedir+'image_{}.map'.format(str(beam).zfill(2))\n",
    "    convol.out = mosaicdir+'image_{}_convol.map'.format(str(beam).zfill(2))\n",
    "    convol.fwhm = '{0},{1}'.format(str(c_beam[0]),str(c_beam[1]))\n",
    "    convol.pa = c_beam[2]\n",
    "    convol.options = 'final'\n",
    "    convol.inp()\n",
    "    convol.go()"
   ]
  },
  {
   "cell_type": "code",
   "execution_count": null,
   "metadata": {},
   "outputs": [],
   "source": [
    "# Create template mosaic image using default parameters \n",
    "\n",
    "# Extract central RA and Dec for Apertif pointing\n",
    "gethd = lib.miriad('gethd')\n",
    "gethd.in_ = imagedir+'image_00.map/crval1'\n",
    "gethd.format = 'hms'\n",
    "ra_ref=gethd.go()\n",
    "gethd.in_ = imagedir+'image_00.map/crval2'\n",
    "gethd.format = 'dms'\n",
    "dec_ref=gethd.go()\n",
    "\n",
    "def create_mosaic():\n",
    "    # This will create a template for the mosaic using \"imgen\" in Miriad\n",
    "    imsize=5121     # Number of pixels for mosaic map\n",
    "    cell=4.         # Cell size in arcsec\n",
    "    # create template\n",
    "    imgen = lib.miriad('imgen')\n",
    "    imgen.out = mosaicdir+'mosaic_temp.map'\n",
    "    imgen.imsize = imsize\n",
    "    imgen.cell = cell\n",
    "    imgen.object = 'level'\n",
    "    imgen.spar = '0.'\n",
    "    imgen.radec = '{0},{1}'.format(str(ra_ref[0]),str(dec_ref[0]))\n",
    "    imgen.inp()\n",
    "    imgen.go()\n",
    "    # Now change projection to NCP\n",
    "    regrid = lib.miriad('regrid')\n",
    "    regrid.in_ = mosaicdir+'mosaic_temp.map'\n",
    "    regrid.out = mosaicdir+'mosaic_template.map'\n",
    "    regrid.project='NCP'\n",
    "    regrid.go()\n",
    "    shutil.rmtree(mosaicdir+'mosaic_temp.map')\n",
    "    \n"
   ]
  },
  {
   "cell_type": "code",
   "execution_count": null,
   "metadata": {},
   "outputs": [],
   "source": [
    "print('Reference RA, Dec for mosaic are: ',ra_ref,dec_ref)\n",
    "create_mosaic()\n"
   ]
  },
  {
   "cell_type": "code",
   "execution_count": null,
   "metadata": {
    "scrolled": true
   },
   "outputs": [],
   "source": [
    "# Put images on mosaic template grid\n",
    "for beam in beams:\n",
    "    regrid = lib.miriad('regrid')\n",
    "    regrid.in_ = mosaicdir+'image_{}_convol.map'.format(str(beam).zfill(2))\n",
    "    regrid.out = mosaicdir+'image_{}_mos.map'.format(str(beam).zfill(2))\n",
    "    regrid.tin = mosaicdir+'mosaic_template.map'\n",
    "    regrid.axes = '1,2'\n",
    "    regrid.inp()\n",
    "    regrid.go()\n",
    "\n"
   ]
  },
  {
   "cell_type": "code",
   "execution_count": null,
   "metadata": {
    "scrolled": true
   },
   "outputs": [],
   "source": [
    "# Make beam maps match grid of images\n",
    "\n",
    "for beam in beams:\n",
    "    regrid = lib.miriad('regrid')\n",
    "    regrid.in_ = beamdir+'beam_{}.map'.format(str(beam).zfill(2))\n",
    "    regrid.out = beamdir+'beam_{}_mos.map'.format(str(beam).zfill(2))\n",
    "    regrid.tin = mosaicdir+'mosaic_template.map'.format(str(beam).zfill(2))\n",
    "    regrid.axes = '1,2'  \n",
    "    regrid.inp()\n",
    "    regrid.go()\n"
   ]
  },
  {
   "cell_type": "code",
   "execution_count": null,
   "metadata": {
    "scrolled": true
   },
   "outputs": [],
   "source": [
    "# Now, we need to do the matrix math\n",
    "\n",
    "# First calculate transpose of beam matrix multiplied by the inverse covariance matrix\n",
    "# Will use *maths* in Miriad\n",
    "\n",
    "# Using \"beams\" list to account for missing beams/images\n",
    "# Only doing math where inv_cov value is non-zero\n",
    "\n",
    "maths = lib.miriad('maths')\n",
    "for bm in beams:\n",
    "    for b in beams:\n",
    "        maths.out = mosaicdir+'tmp_{}.map'.format(str(b))\n",
    "        if inv_cov[b,bm]!=0.:\n",
    "                operate+=\"<\"+beamdir+\"beam_{0}_mos.map>*{1}+\".format(str(b).zfill(2),inv_cov[b,bm])\n",
    "        maths.exp = operate\n",
    "        maths.options='unmask'\n",
    "        maths.inp()\n",
    "        maths.go()\n",
    "    i=1\n",
    "    while i<len(beams):\n",
    "        if i==1:\n",
    "            operate = \"'<\"+mosaicdir+\"tmp_{}.map>+<\".format(str(beams[i-1]))+mosaicdir+\"tmp_{}.map>'\".format(str(beams[i]))\n",
    "        else:\n",
    "            operate=\"'<\"+mosaicdir+\"tmp_{}.map>\".format(str(beams[i]))+\"+<\"+mosaicdir+\"sum_{}.map>'\".format(str(beams[i-1]))\n",
    "        maths.out = mosaicdir+'sum_{}.map'.format(str(beams[i]))\n",
    "        maths.exp = operate\n",
    "        maths.options='unmask'\n",
    "        maths.inp()\n",
    "        maths.go()\n",
    "        i+=1\n",
    "        \n",
    "    os.rename(mosaicdir+'sum_{}.map'.format(str(beams[i-1])),mosaicdir+'btci_{}.map'.format(str(bm)))\n",
    "\n",
    "    for fl in glob.glob(mosaicdir+'tmp_*.map'):\n",
    "        shutil.rmtree(fl)\n",
    "    for fl in glob.glob(mosaicdir+'sum_*.map'):\n",
    "        shutil.rmtree(fl)\n"
   ]
  },
  {
   "cell_type": "code",
   "execution_count": null,
   "metadata": {
    "scrolled": true
   },
   "outputs": [],
   "source": [
    "# Calculate variance map (using beams and noise covariance matrix over entire map)\n",
    "# This is the denominator for I(mosaic)\n",
    "\n",
    "maths = lib.miriad('maths')\n",
    "i=0\n",
    "for bm in beams:\n",
    "    operate=\"'<\"+mosaicdir+\"btci_{}.map>*<\".format(str(bm).zfill(2))+beamdir+\"beam_{}_mos.map>'\".format(str(bm).zfill(2))\n",
    "    if bm!=beams[0]:\n",
    "        operate=operate[:-1]+\"+<\"+mosaicdir+\"out_{}_mos.map>'\".format(str(i).zfill(2))\n",
    "    i+=1\n",
    "    maths.out = mosaicdir+\"out_{}_mos.map\".format(str(i).zfill(2))\n",
    "    maths.exp = operate\n",
    "    maths.options='unmask'\n",
    "    maths.inp()\n",
    "    maths.go()\n",
    "\n",
    "os.rename(mosaicdir+'out_{}_mos.map'.format(str(i).zfill(2)),mosaicdir+'variance_mos.map')\n",
    "   "
   ]
  },
  {
   "cell_type": "code",
   "execution_count": null,
   "metadata": {
    "scrolled": true
   },
   "outputs": [],
   "source": [
    "# Calculate transpose of beam matrix multiplied by noise_cov multiplied by image from each beam for each position\n",
    "# in the final image\n",
    "\n",
    "maths = lib.miriad('maths')\n",
    "i=0\n",
    "for bm in beams:\n",
    "    operate=\"'<\"+mosaicdir+\"image_{}_mos.map>*<\".format(str(bm).zfill(2))+mosaicdir+\"btci_{}.map>'\".format(str(bm).zfill(2))\n",
    "    if bm!=beams[0]:\n",
    "        operate=operate[:-1]+\"+<\"+mosaicdir+\"mos_{}.map>'\".format(str(i).zfill(2))\n",
    "    i+=1\n",
    "    maths.out = mosaicdir+\"mos_{}.map\".format(str(i).zfill(2))\n",
    "    maths.exp = operate\n",
    "    maths.options='unmask,grow'\n",
    "    maths.inp()\n",
    "    maths.go()\n",
    "os.rename(mosaicdir+'mos_{}.map'.format(str(i).zfill(2)),mosaicdir+'mosaic_im.map')\n"
   ]
  },
  {
   "cell_type": "code",
   "execution_count": null,
   "metadata": {},
   "outputs": [],
   "source": [
    "# Find maximum value of variance map\n",
    "imstat = lib.miriad('imstat')\n",
    "imstat.in_=\"'\"+mosaicdir+\"variance_mos.map'\"\n",
    "imstat.region=\"'quarter(1)'\"\n",
    "imstat.axes=\"'x,y'\"\n",
    "a=imstat.go()\n",
    "\n",
    "# Always outputs max value at same point\n",
    "var_max=a[10].split(\" \")[-3]\n"
   ]
  },
  {
   "cell_type": "code",
   "execution_count": null,
   "metadata": {},
   "outputs": [],
   "source": [
    "# Divide image by variance map\n",
    "\n",
    "maths = lib.miriad('maths')\n",
    "maths.out = mosaicdir+'mosaic_final.map'\n",
    "maths.exp=\"'<\"+mosaicdir+\"mosaic_im.map>/<\"+mosaicdir+\"variance_mos.map>'\"\n",
    "maths.mask=\"'<\"+mosaicdir+\"variance_mos.map>.gt.0.01*\"+str(var_max)+\"'\"\n",
    "maths.options='unmask,grow'\n",
    "maths.inp()\n",
    "maths.go()\n"
   ]
  },
  {
   "cell_type": "code",
   "execution_count": null,
   "metadata": {},
   "outputs": [],
   "source": [
    "# Produce mosaic noise map\n",
    "maths = lib.miriad('maths')\n",
    "maths.out = mosaicdir+'mosaic_noise.map'\n",
    "maths.exp=\"'1./sqrt(<\"+mosaicdir+\"variance_mos.map>)'\"\n",
    "maths.mask=\"'<\"+mosaicdir+\"variance_mos.map>.gt.0.01*\"+str(var_max)+\"'\"\n",
    "maths.inp()\n",
    "maths.go()\n",
    "\n",
    "puthd = lib.miriad('puthd')\n",
    "puthd.in_=mosaicdir+'mosaic_noise.map/bunit'\n",
    "puthd.value='JY/BEAM'\n",
    "puthd.go()"
   ]
  },
  {
   "cell_type": "code",
   "execution_count": null,
   "metadata": {},
   "outputs": [],
   "source": [
    "# Clean up files\n",
    "for fl in glob.glob(mosaicdir+'*_convol.map'):\n",
    "    shutil.rmtree(fl)\n",
    "\n",
    "shutil.rmtree(mosaicdir+'mosaic_im.map')\n",
    "\n",
    "for fl in glob.glob(mosaicdir+'mos_*.map'):\n",
    "    shutil.rmtree(fl)\n",
    "\n",
    "for fl in glob.glob(mosaicdir+'btci_*.map'):\n",
    "    shutil.rmtree(fl)"
   ]
  },
  {
   "cell_type": "code",
   "execution_count": null,
   "metadata": {},
   "outputs": [],
   "source": [
    "# Write out FITS files\n",
    "fits = lib.miriad('fits')\n",
    "fits.op='xyout'\n",
    "fits.in_=mosaicdir+'mosaic_final.map'\n",
    "fits.out=mosaicdir+projectid+'_mosaic.fits'\n",
    "fits.inp()\n",
    "fits.go()\n",
    "\n",
    "fits.in_=mosaicdir+'mosaic_noise.map'\n",
    "fits.out=mosaicdir+projectid+'_mosaic_noise.fits'\n",
    "fits.inp()\n",
    "fits.go()"
   ]
  },
  {
   "cell_type": "code",
   "execution_count": null,
   "metadata": {},
   "outputs": [],
   "source": []
  }
 ],
 "metadata": {
  "kernelspec": {
   "display_name": "Python 2",
   "language": "python",
   "name": "python2"
  },
  "language_info": {
   "codemirror_mode": {
    "name": "ipython",
    "version": 2
   },
   "file_extension": ".py",
   "mimetype": "text/x-python",
   "name": "python",
   "nbconvert_exporter": "python",
   "pygments_lexer": "ipython2",
   "version": "2.7.12"
  }
 },
 "nbformat": 4,
 "nbformat_minor": 2
}
